{
  "nbformat": 4,
  "nbformat_minor": 0,
  "metadata": {
    "colab": {
      "name": "파이썬 머신러닝 완벽가이드5.ipynb",
      "provenance": [],
      "collapsed_sections": []
    },
    "kernelspec": {
      "name": "python3",
      "display_name": "Python 3"
    },
    "language_info": {
      "name": "python"
    }
  },
  "cells": [
    {
      "cell_type": "markdown",
      "source": [
        "## Chapter 3 평가\n",
        "\n",
        "분류의 성능 평가 지표: 정확도(Accuracy), 오차행렬(Confusion Matrix), 정밀도(Precision), 재현율(Recall), F1 스코어, ROC AUC"
      ],
      "metadata": {
        "id": "57sfGONAIay0"
      }
    },
    {
      "cell_type": "markdown",
      "source": [
        "## 1. 정확도(Accuracy)\n",
        "\n",
        "- 실제 데이터에서 예측 데이터가 얼마나 같은지를 판단하는 지표\n",
        "\n",
        "- 정확도 = 예측 결과가 동일한 데이터 건수 / 전체 예측 데이터 건수\n",
        "\n",
        "- 이진 분류의 경우 데이터의 구성에 따라 ML모델의 성능을 왜곡할 수 있기 떄문에 정확도 수치 하나만 가지고 성능을 평가하지 않음."
      ],
      "metadata": {
        "id": "srTQu-m4JV0l"
      }
    },
    {
      "cell_type": "code",
      "source": [
        "from sklearn.base import BaseEstimator\n",
        "\n",
        "class MyDummyClassifier(BaseEstimator):\n",
        "  # fit() 메서드는 아무것도 학습하지 않음.\n",
        "  def fit(self,X,y=None):\n",
        "    pass\n",
        "  # predict() 메서드는 단순히 Sex 피치가 1이면 0, 그렇지 않으면 1로 예측함.\n",
        "  def predict(self,X):\n",
        "    pred=np.zeros((X.shape[0],1))\n",
        "    for i in range(X.shape[0]):\n",
        "      if X['Sex'].iloc[i]==1:\n",
        "        pred[i]=0\n",
        "      else:\n",
        "        pred[i]=1\n",
        "    return pred"
      ],
      "metadata": {
        "id": "CQ-TRgUmJVWm"
      },
      "execution_count": 1,
      "outputs": []
    },
    {
      "cell_type": "code",
      "source": [
        "from google.colab import files\n",
        "myfile = files.upload()"
      ],
      "metadata": {
        "colab": {
          "resources": {
            "http://localhost:8080/nbextensions/google.colab/files.js": {
              "data": "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",
              "ok": true,
              "headers": [
                [
                  "content-type",
                  "application/javascript"
                ]
              ],
              "status": 200,
              "status_text": ""
            }
          },
          "base_uri": "https://localhost:8080/",
          "height": 77
        },
        "id": "a03ZSBY5Lhrh",
        "outputId": "931ebdad-cbf5-403e-cdfc-ea610ca72a04"
      },
      "execution_count": 2,
      "outputs": [
        {
          "output_type": "display_data",
          "data": {
            "text/plain": [
              "<IPython.core.display.HTML object>"
            ],
            "text/html": [
              "\n",
              "     <input type=\"file\" id=\"files-46585ac5-adcc-4699-8248-a9af492b2ad3\" name=\"files[]\" multiple disabled\n",
              "        style=\"border:none\" />\n",
              "     <output id=\"result-46585ac5-adcc-4699-8248-a9af492b2ad3\">\n",
              "      Upload widget is only available when the cell has been executed in the\n",
              "      current browser session. Please rerun this cell to enable.\n",
              "      </output>\n",
              "      <script src=\"/nbextensions/google.colab/files.js\"></script> "
            ]
          },
          "metadata": {}
        },
        {
          "output_type": "stream",
          "name": "stdout",
          "text": [
            "Saving titanic_train.csv to titanic_train.csv\n"
          ]
        }
      ]
    },
    {
      "cell_type": "code",
      "source": [
        "# 이전에 처리한 코드\n",
        "from sklearn import preprocessing\n",
        "\n",
        "def fillna(df):\n",
        "  df['Age'].fillna(df['Age'].mean(),inplace=True)\n",
        "  df['Cabin'].fillna('N',inplace=True)\n",
        "  df['Embarked'].fillna('N',inplace=True)\n",
        "  df['Fare'].fillna(0, inplace=True)\n",
        "  return df\n",
        "\n",
        "def drop_features(df):\n",
        "  df.drop(['PassengerId','Name','Ticket'],axis=1, inplace=True)\n",
        "  return df\n",
        "\n",
        "def format_features(df):\n",
        "  df['Cabin'] = df['Cabin'].str[:1]\n",
        "  features = ['Cabin','Sex','Embarked']\n",
        "  for feature in features:\n",
        "    le = preprocessing.LabelEncoder()\n",
        "    le = le.fit(df[feature])\n",
        "    df[feature] = le.transform(df[feature])\n",
        "  return df\n",
        "\n",
        "def transform_features(df):\n",
        "  df = fillna(df)\n",
        "  df = drop_features(df)\n",
        "  df = format_features(df)\n",
        "  return df"
      ],
      "metadata": {
        "id": "y2AoXK5qYit7"
      },
      "execution_count": 4,
      "outputs": []
    },
    {
      "cell_type": "code",
      "execution_count": 10,
      "metadata": {
        "id": "VYTEiCJZpmq5",
        "colab": {
          "base_uri": "https://localhost:8080/"
        },
        "outputId": "cafd32f3-06aa-4c0c-bfa6-fc1f71d63b6e"
      },
      "outputs": [
        {
          "output_type": "stream",
          "name": "stdout",
          "text": [
            "Dummy Classifier의 정확도는: 0.7877\n"
          ]
        }
      ],
      "source": [
        "import numpy as np\n",
        "import pandas as pd\n",
        "from sklearn.model_selection import train_test_split\n",
        "from sklearn.metrics import accuracy_score\n",
        "\n",
        "# 원본 데이터를 재로딩, 데이터 가공, 학습 데이터/테스트 데이터 분할\n",
        "titanic_df = pd.read_csv('titanic_train.csv')\n",
        "y_titanic_df=titanic_df['Survived']\n",
        "X_titanic_df=titanic_df.drop('Survived',axis=1)\n",
        "X_titanic_df=transform_features(X_titanic_df)\n",
        "X_train, X_test, y_train, y_test = train_test_split(X_titanic_df,y_titanic_df,test_size=0.2,random_state=0)\n",
        "\n",
        "# 위에서 생성한 Dummy Classifier를 이용해 학습/예측/평가 수행\n",
        "myclf = MyDummyClassifier()\n",
        "myclf.fit(X_train, y_train)\n",
        "mypredictions=myclf.predict(X_test)\n",
        "print('Dummy Classifier의 정확도는: {0:.4f}'.format(accuracy_score(y_test,mypredictions)))\n",
        "\n",
        "# 단순한 알고리즘으로 예측을 하였음에도 정확도가 높음 -> 정확도 평가 지표의 맹점"
      ]
    },
    {
      "cell_type": "markdown",
      "source": [
        "- 불균형한(imbalanced) 레이블 값 분포에서 ML 모델의 성능을 판단할 경우, 적합한 평가 지표가 아님.\n",
        "\n",
        " ex. 100개의 데이터 중 90개의 데이터 레이블이 0, 10개의 데이터 레이블이 1이라면, 무조건 0으로 예측 결과를 반환하는 ML모델의 경우라도 정확도는 90%가 됨."
      ],
      "metadata": {
        "id": "M7l76NnzZmCX"
      }
    },
    {
      "cell_type": "code",
      "source": [
        "from sklearn.datasets import load_digits\n",
        "from sklearn.model_selection import train_test_split\n",
        "from sklearn.base import BaseEstimator\n",
        "from sklearn.metrics import accuracy_score\n",
        "import numpy as np\n",
        "import pandas as pd\n",
        "\n",
        "class MyFakeClassifier(BaseEstimator):\n",
        "  def fit(self,X,y):\n",
        "    pass\n",
        "\n",
        "  # 입력값으로 들어오는 X 데이터 세트의 크기만큼 모두 0값으로 만들어서 반환\n",
        "  def predict(self,X):\n",
        "    return np.zeros((len(X),1),dtype=bool)\n",
        "\n",
        "# 사이킷런의 내장 데이터 세트인 load_digits()를 이용해 MNIST 데이터 로딩\n",
        "digits=load_digits()\n",
        "\n",
        "# digits 번호가 7번이면 True이고 이를 astype(int)로 1로 변환, 7번이 아니면 False이고 0으로 변환\n",
        "y=(digits.target==7).astype(int)\n",
        "X_train, X_test, y_train, y_test = train_test_split(digits.data,y,random_state=11)\n",
        "\n",
        "# 불균형한 레이블 데이터 분포도 확인\n",
        "print('레이블 테스트 세트 크기:',y_test.shape)\n",
        "print('테스트 세트 레이블 0과 1의 분포도')\n",
        "print(pd.Series(y_test).value_counts())\n",
        "\n",
        "# Dummy Classifier로 학습/예측/정확도 평가\n",
        "fakeclf=MyFakeClassifier()\n",
        "fakeclf.fit(X_train, y_train)\n",
        "fakepred=fakeclf.predict(X_test)\n",
        "print('모든 예측을 0으로 하여도 정확도는:{:.3f}'.format(accuracy_score(y_test,fakepred)))"
      ],
      "metadata": {
        "colab": {
          "base_uri": "https://localhost:8080/"
        },
        "id": "rn6Ln7FZQvyZ",
        "outputId": "bb513003-0520-42d4-a9d4-25164ad1b18a"
      },
      "execution_count": 13,
      "outputs": [
        {
          "output_type": "stream",
          "name": "stdout",
          "text": [
            "레이블 테스트 세트 크기: (450,)\n",
            "테스트 세트 레이블 0과 1의 분포도\n",
            "0    405\n",
            "1     45\n",
            "dtype: int64\n",
            "모든 예측을 0으로 하여도 정확도는:0.900\n"
          ]
        }
      ]
    },
    {
      "cell_type": "markdown",
      "source": [
        "- 정확도 평가 지표는 불균형한 레이블 데이터 세트에서는 성능 수치로 사용하면 안됨.\n",
        "\n",
        "- 정확도가 가지는 분류 평가 지표로서 이러한 한계점을 극복하기 위해 여러 가지 분류 지표와 함께 적용해야 함."
      ],
      "metadata": {
        "id": "CDORV1r_dd3a"
      }
    },
    {
      "cell_type": "markdown",
      "source": [
        "## 2. 오차 행렬"
      ],
      "metadata": {
        "id": "sXFxWUB2dpjB"
      }
    },
    {
      "cell_type": "markdown",
      "source": [
        "- 학습된 분류 모델이 예측을 수행하면서 얼마나 헷갈리고(confused) 있는지를 함께 보여주는 지표\n",
        "\n",
        "- 정확도 = (TN+TP)/(TN+FP+FN+TP) -> TN과 TP의 좌우됨.\n",
        "\n",
        "![R.jpg](data:image/jpeg;base64,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)"
      ],
      "metadata": {
        "id": "SrjdXRD4eC7D"
      }
    },
    {
      "cell_type": "code",
      "source": [
        "from sklearn.metrics import confusion_matrix\n",
        "confusion_matrix(y_test,fakepred)"
      ],
      "metadata": {
        "colab": {
          "base_uri": "https://localhost:8080/"
        },
        "id": "OvEqjEgKdL8Q",
        "outputId": "5f982d82-4c79-4414-8789-1bc49df9c866"
      },
      "execution_count": 15,
      "outputs": [
        {
          "output_type": "execute_result",
          "data": {
            "text/plain": [
              "array([[405,   0],\n",
              "       [ 45,   0]])"
            ]
          },
          "metadata": {},
          "execution_count": 15
        }
      ]
    },
    {
      "cell_type": "markdown",
      "source": [
        "- 불균형한 데이터 세트에서는 Positive 데이터 건수가 매우 작기 때문에 데이터에 기반한 ML 알고리즘은 Positive보다는 Negative로 예측 정확도가 높아지는 경향이 발생함."
      ],
      "metadata": {
        "id": "qKlSpSMyi56Q"
      }
    },
    {
      "cell_type": "markdown",
      "source": [
        "## 3. 정밀도와 재현율\n",
        "\n",
        "- Positive 데이터 세트의 예측 성능에 더 초점을 맞춘 평가 지표\n",
        "\n",
        "- 앞서 만든 MyFakeClassifier는 Positive로 예측한 TP값이 하나도 없어 정밀도와 재현율의 값은 0\n",
        "\n",
        "- 정밀도 (양성 예측도) = TP / (FP + TP) : 예측을 Positive로 한 대상 중에 예측과 실제 값이 Positive로 일치한 데이터의 비율\n",
        "\n",
        "- 재현율 (민감도,TPR) = TP / (FN + TP) : 실제 값이 Positive인 대상 중에 예측과 실제값이 Positive로 일치한 데이터의 비율\n",
        "\n",
        "- 재현율이 중요 지표인 경우) 실제 Positive 양성 데이터를 Negative로 잘못 판단하게 되면 업무상 큰 영향이 발생하는 경우\n",
        "\n",
        " ex. 암 판단 모델, 금융 사기 적발 모델\n",
        "\n",
        " - 정밀도가 중요 지표인 경우) 실제 Negative 음성인 데이터 예측을 Positive 양성으로 잘못 판단하게 되면 업무상 큰 영향이 발생하는 경우\n",
        " \n",
        "  ex. 스팸메일 여부를 판단하는 모델 "
      ],
      "metadata": {
        "id": "2IcBOX1gjeLE"
      }
    },
    {
      "cell_type": "code",
      "source": [
        "# 평가를 간편하게 적용하기 위해 confusion_matrix, accuracy, precision, recall 등의 평가를 한번에 호출하는 get_clf_eval() 함수 만들기\n",
        "\n",
        "from sklearn.metrics import accuracy_score, precision_score, recall_score, confusion_matrix\n",
        "\n",
        "def get_clf_eval(y_test,pred):\n",
        "  confusion = confusion_matrix(y_test,pred)\n",
        "  accuracy = accuracy_score(y_test,pred)\n",
        "  precision = precision_score(y_test,pred)\n",
        "  recall=recall_score(y_test,pred)\n",
        "  print(\"오차 행렬\")\n",
        "  print(confusion)\n",
        "  print('정확도: {0:.4f}, 정밀도: {1:.4f}, 재현율: {2:.4f}'.format(accuracy, precision, recall))"
      ],
      "metadata": {
        "id": "mnNHTKHbiTac"
      },
      "execution_count": 16,
      "outputs": []
    },
    {
      "cell_type": "code",
      "source": [
        "import pandas as pd\n",
        "from sklearn.model_selection import train_test_split\n",
        "from sklearn.linear_model import LogisticRegression\n",
        "\n",
        "#원본 데이터 재로딩, 데이터 가공, 학습 데이터/테스트 데이터 분할\n",
        "titanic_df=pd.read_csv('titanic_train.csv')\n",
        "y_titanic_df=titanic_df['Survived']\n",
        "X_titanic_df=titanic_df.drop('Survived',axis=1)\n",
        "X_titanic_df=transform_features(X_titanic_df)\n",
        "\n",
        "X_train, X_test, y_train, y_test = train_test_split(X_titanic_df, y_titanic_df, test_size=0.20, random_state=11)\n",
        "\n",
        "lr_clf=LogisticRegression()\n",
        "\n",
        "lr_clf.fit(X_train,y_train)\n",
        "pred=lr_clf.predict(X_test)\n",
        "get_clf_eval(y_test,pred)\n",
        "# 정밀도에 비해 재현율이 낮음. -> 강화 필요"
      ],
      "metadata": {
        "colab": {
          "base_uri": "https://localhost:8080/"
        },
        "id": "Bty3sBABmwtN",
        "outputId": "2373161f-cc08-48be-934a-0df5b03eeef6"
      },
      "execution_count": 32,
      "outputs": [
        {
          "output_type": "stream",
          "name": "stdout",
          "text": [
            "오차 행렬\n",
            "[[104  14]\n",
            " [ 13  48]]\n",
            "정확도: 0.8492, 정밀도: 0.7742, 재현율: 0.7869\n"
          ]
        },
        {
          "output_type": "stream",
          "name": "stderr",
          "text": [
            "/usr/local/lib/python3.7/dist-packages/sklearn/linear_model/_logistic.py:818: ConvergenceWarning: lbfgs failed to converge (status=1):\n",
            "STOP: TOTAL NO. of ITERATIONS REACHED LIMIT.\n",
            "\n",
            "Increase the number of iterations (max_iter) or scale the data as shown in:\n",
            "    https://scikit-learn.org/stable/modules/preprocessing.html\n",
            "Please also refer to the documentation for alternative solver options:\n",
            "    https://scikit-learn.org/stable/modules/linear_model.html#logistic-regression\n",
            "  extra_warning_msg=_LOGISTIC_SOLVER_CONVERGENCE_MSG,\n"
          ]
        }
      ]
    },
    {
      "cell_type": "markdown",
      "source": [
        "## 정밀도 / 재현율 트레이드오프\n",
        "\n",
        "- 분류하려는 업무 특성상 정밀도 또는 재현율이 특별히 강조되어야 하는 경우 분류의 결정 임곗값(Threshold)을 조정해 정밀도 또는 재현율의 수치를 높일 수 있음. \n",
        "\n",
        "- 정밀도와 재현율은 상호 보완적인 평가 지표이기 때문에 어느 한쪽을 강제로 높이면, 다른 수치는 떨어짐.\n",
        "\n",
        "- 사이킷런의 분류 알고리즘은 예측 데이터가 특정 레이블에 속하는지를 계산하기 위해 먼저 개별 레이블별로 결정 확률을 구하고, 예측 확률이 큰 레이블값으로 예측하게 됨. 일반적으로 이진 분류에서는 이 임계값을 0.5 즉 50%로 정하고 이 기준 값보다 확률이 크면 Positive, 작으면 Negative로 결정"
      ],
      "metadata": {
        "id": "B8wP6dOPnuvv"
      }
    },
    {
      "cell_type": "markdown",
      "source": [
        "### predict_proba() 메서드\n",
        "\n",
        "입력 파라미터) \n",
        "\n",
        "predict() 메서드와 동일하게 보통 테스트 피처 데이터 세트를 입력\n",
        "\n",
        "반환 값)\n",
        " \n",
        "개별 클래스의 예측 확률을 ndarray m*n (m: 입력 값의 레코드 수, n: 클래스 값 유형) 형태로 반환\n",
        "\n",
        "각 열은 개별 클래스의 예측 확률. 이진 분류에서 첫 번째 열은 0 Negative의 확률, 두 번째 열은 1 Positive의 확률\n",
        "\n",
        "predict()는 predict_proba() 메서드가 반환하는 확률 값을 가진 ndarray에서 정해진 임곗값을 만족하는 ndarray의 칼럼 위치를 최종 에측 클래스로 결정"
      ],
      "metadata": {
        "id": "TOcf6EC2p7L5"
      }
    },
    {
      "cell_type": "code",
      "source": [
        "pred_proba = lr_clf.predict_proba(X_test)\n",
        "pred = lr_clf.predict(X_test)\n",
        "print('pred_proba() 결과 Shape: {0}'.format(pred_proba.shape))\n",
        "print('pred_proba array에서 앞 3개만 샘플로 추출: \\n',pred_proba[:3])\n",
        "\n",
        "# 예측 확률 array와 예측 결괏값 array를 병합해 예측 확률과 결괏값을 한눈에 확인\n",
        "pred_proba_result = np.concatenate([pred_proba,pred.reshape(-1,1)],axis=1)\n",
        "print('두 개의 class 중에서 더 큰 확률을 클래스 값으로 예측 \\n',pred_proba_result[:3])"
      ],
      "metadata": {
        "colab": {
          "base_uri": "https://localhost:8080/"
        },
        "id": "GQeQEW2tnY8s",
        "outputId": "b8aa9972-efa1-4a09-ec7d-12e062e247a9"
      },
      "execution_count": 33,
      "outputs": [
        {
          "output_type": "stream",
          "name": "stdout",
          "text": [
            "pred_proba() 결과 Shape: (179, 2)\n",
            "pred_proba array에서 앞 3개만 샘플로 추출: \n",
            " [[0.46191519 0.53808481]\n",
            " [0.878675   0.121325  ]\n",
            " [0.87716185 0.12283815]]\n",
            "두 개의 class 중에서 더 큰 확률을 클래스 값으로 예측 \n",
            " [[0.46191519 0.53808481 1.        ]\n",
            " [0.878675   0.121325   0.        ]\n",
            " [0.87716185 0.12283815 0.        ]]\n"
          ]
        }
      ]
    },
    {
      "cell_type": "markdown",
      "source": [
        "### Binarizer 클래스\n",
        "\n",
        "threshold 변수를 특정 값으로 설정하고 Binarizer 클래스를 객체로 생성. 생성된 Binarizer 객체의 fit_transform()메서드를 이용해 넘파이 ndarray를 입력하면 입력된 ndarray의 값을 지정된 threshold보다 같거나 작으면 0값으로, 크면 1값으로 변환해 반환."
      ],
      "metadata": {
        "id": "LHOQjssOuBi7"
      }
    },
    {
      "cell_type": "code",
      "source": [
        "from sklearn.preprocessing import Binarizer\n",
        "\n",
        "X=[[1,-1,2],\n",
        "   [2,0,0],\n",
        "   [0,1.1,1.2]]\n",
        "# X의 개별 원소들이 threshold값보다 같거나 작으면 0을, 크면 1을 반환\n",
        "binarizer = Binarizer(threshold=1.1)\n",
        "print(binarizer.fit_transform(X))"
      ],
      "metadata": {
        "colab": {
          "base_uri": "https://localhost:8080/"
        },
        "id": "H535m4iHrWhB",
        "outputId": "740f29f1-3603-42e1-c710-810eaf5409ba"
      },
      "execution_count": 34,
      "outputs": [
        {
          "output_type": "stream",
          "name": "stdout",
          "text": [
            "[[0. 0. 1.]\n",
            " [1. 0. 0.]\n",
            " [0. 0. 1.]]\n"
          ]
        }
      ]
    },
    {
      "cell_type": "code",
      "source": [
        "from sklearn.preprocessing import Binarizer\n",
        "\n",
        "# Binarizer의 threshold 설정값. 분류 결정 임계값\n",
        "custom_threshold = 0.5\n",
        "\n",
        "# predict_proba() 반환값의 두 번째 칼럼, 즉 Posiive 클래스 칼럼 하나만 추출해 Binarizer를 적용\n",
        "pred_proba_1 = pred_proba[:,1].reshape(-1,1)\n",
        "\n",
        "binarizer = Binarizer(threshold=custom_threshold).fit(pred_proba_1)\n",
        "custom_predict = binarizer.transform(pred_proba_1)\n",
        "\n",
        "get_clf_eval(y_test,custom_predict)"
      ],
      "metadata": {
        "colab": {
          "base_uri": "https://localhost:8080/"
        },
        "id": "uEXN0tXuvV_C",
        "outputId": "d3b2f7ac-1dd0-441a-c755-1b3d8656b3d4"
      },
      "execution_count": 35,
      "outputs": [
        {
          "output_type": "stream",
          "name": "stdout",
          "text": [
            "오차 행렬\n",
            "[[104  14]\n",
            " [ 13  48]]\n",
            "정확도: 0.8492, 정밀도: 0.7742, 재현율: 0.7869\n"
          ]
        }
      ]
    },
    {
      "cell_type": "code",
      "source": [
        "# Binarizer의 threshold 설정값을 0.4로 설정. 즉, 분류 결정 임계값을 0.5에서 0.4로 낮춤.\n",
        "custom_threshold=0.4\n",
        "pred_proba_1 = pred_proba[:,1].reshape(-1,1)\n",
        "binarizer = Binarizer(threshold=custom_threshold).fit(pred_proba_1)\n",
        "custom_predict = binarizer.transform(pred_proba_1)\n",
        "\n",
        "get_clf_eval(y_test,custom_predict)\n",
        "\n",
        "# 임계값을 낮추니 재현율은 올라가고 정밀도는 떨어짐."
      ],
      "metadata": {
        "colab": {
          "base_uri": "https://localhost:8080/"
        },
        "id": "3bDPINKcytPx",
        "outputId": "d19dfc11-30b0-4620-976a-7624a301e14d"
      },
      "execution_count": 39,
      "outputs": [
        {
          "output_type": "stream",
          "name": "stdout",
          "text": [
            "오차 행렬\n",
            "[[98 20]\n",
            " [10 51]]\n",
            "정확도: 0.8324, 정밀도: 0.7183, 재현율: 0.8361\n"
          ]
        }
      ]
    },
    {
      "cell_type": "markdown",
      "source": [
        "- 분류 결정 임곗값은 Positive 예측값을 결정하는 확률의 기준 -> 임곗값을 낮추면 Positive 예측을 더 너그럽게 하기 때문에 임곗값 값을 낮출수록 True값이 많아지게 됨.\n",
        "\n",
        "- 분류 결정 임곗값이 낮아질수록 Positive로 예측할 확률이 높아짐. 재현율 증가"
      ],
      "metadata": {
        "id": "5ZzOGtzSzzmg"
      }
    },
    {
      "cell_type": "code",
      "source": [
        "# 임곗값을 0.4에서부터 0.6까지 0.05씩 증가시키며 평가 지표 조사\n",
        "\n",
        "# 테스트를 수행할 모든 임곗값을 리스트 객체로 저장\n",
        "thresholds=[0.4,0.45,0.5,0.55,0.6]\n",
        "\n",
        "def get_eval_by_threshold(y_test,pred_proba_c1,thresholds):\n",
        "  # thresholds list 객체 내의 값을 차례로 iteration하면서 evaluation 수행\n",
        "  for custom_threshold in thresholds:\n",
        "    binarizer = Binarizer(threshold=custom_threshold).fit(pred_proba_c1)\n",
        "    custom_predict = binarizer.transform(pred_proba_c1)\n",
        "    print('임곗값:',custom_threshold)\n",
        "    get_clf_eval(y_test,custom_predict)\n",
        "\n",
        "get_eval_by_threshold(y_test,pred_proba[:,1].reshape(-1,1),thresholds)"
      ],
      "metadata": {
        "colab": {
          "base_uri": "https://localhost:8080/"
        },
        "id": "QUN-e8mezFku",
        "outputId": "ae3e517b-b507-4f51-bcb9-845600b75ddf"
      },
      "execution_count": 40,
      "outputs": [
        {
          "output_type": "stream",
          "name": "stdout",
          "text": [
            "임곗값: 0.4\n",
            "오차 행렬\n",
            "[[98 20]\n",
            " [10 51]]\n",
            "정확도: 0.8324, 정밀도: 0.7183, 재현율: 0.8361\n",
            "임곗값: 0.45\n",
            "오차 행렬\n",
            "[[103  15]\n",
            " [ 12  49]]\n",
            "정확도: 0.8492, 정밀도: 0.7656, 재현율: 0.8033\n",
            "임곗값: 0.5\n",
            "오차 행렬\n",
            "[[104  14]\n",
            " [ 13  48]]\n",
            "정확도: 0.8492, 정밀도: 0.7742, 재현율: 0.7869\n",
            "임곗값: 0.55\n",
            "오차 행렬\n",
            "[[109   9]\n",
            " [ 15  46]]\n",
            "정확도: 0.8659, 정밀도: 0.8364, 재현율: 0.7541\n",
            "임곗값: 0.6\n",
            "오차 행렬\n",
            "[[112   6]\n",
            " [ 16  45]]\n",
            "정확도: 0.8771, 정밀도: 0.8824, 재현율: 0.7377\n"
          ]
        }
      ]
    },
    {
      "cell_type": "markdown",
      "source": [
        "### precision_recall_curve()\n",
        "\n",
        "입력 파라미터)\n",
        "\n",
        "y_true: 실제 클래스값 배열 (배열 크기=[데이터 건수])\n",
        "\n",
        "probas_pred: Positive 칼럼의 예측 확률 배열 (배열 크기=[데이터 건수])\n",
        "\n",
        "반환 값) 정밀도, 재현율"
      ],
      "metadata": {
        "id": "P6cGBk9y14m6"
      }
    },
    {
      "cell_type": "code",
      "source": [
        "from sklearn.metrics import precision_recall_curve\n",
        "\n",
        "# 레이블 값이 1일 때의 예측 확률\n",
        "pred_proba_class1 = lr_clf.predict_proba(X_test)[:,1]\n",
        "\n",
        "# 실제값 데이터 세트와 레이블 값이 1일 때의 예측 확률을 precision_recall_curve 인자로 입력\n",
        "precisions, recalls, thresholds = precision_recall_curve(y_test, pred_proba_class1)\n",
        "print('반환된 분류 결정 임곗값 배열의 Shape:', thresholds.shape)\n",
        "\n",
        "# 반환된 임곗값 배열 로우가 147건이므로 샘플로 10건만 추출하되, 임곗값을 15 step으로 추출\n",
        "thr_index = np.arange(0,thresholds.shape[0], 15)\n",
        "print('샘플 추출을 위한 임곗값 배열의 index 10개 :', thr_index)\n",
        "print('샘플용 10개의 임곗값:', np.round(thresholds[thr_index],2))\n",
        "\n",
        "# 15 step 단위로 추출된 임곗값에 따른 정밀도와 재현율 값\n",
        "print('샘플 임계값별 정밀도 : ', np.round(precisions[thr_index],3))\n",
        "print('샘플 임계값별 재현율 : ', np.round(recalls[thr_index],3))\n",
        "\n",
        "# 임곗값이 증가할수록 정밀도 값은 동시에 높아지나 재현율 값은 낮아짐."
      ],
      "metadata": {
        "colab": {
          "base_uri": "https://localhost:8080/"
        },
        "id": "T-odgWj61wKY",
        "outputId": "e1654f34-9c28-4f0a-ac3a-c759d8c9faee"
      },
      "execution_count": 42,
      "outputs": [
        {
          "output_type": "stream",
          "name": "stdout",
          "text": [
            "반환된 분류 결정 임곗값 배열의 Shape: (143,)\n",
            "샘플 추출을 위한 임곗값 배열의 index 10개 : [  0  15  30  45  60  75  90 105 120 135]\n",
            "샘플용 10개의 임곗값: [0.1  0.12 0.14 0.19 0.28 0.4  0.56 0.67 0.82 0.95]\n",
            "샘플 임계값별 정밀도 :  [0.389 0.44  0.466 0.539 0.647 0.729 0.836 0.949 0.958 1.   ]\n",
            "샘플 임계값별 재현율 :  [1.    0.967 0.902 0.902 0.902 0.836 0.754 0.607 0.377 0.148]\n"
          ]
        }
      ]
    },
    {
      "cell_type": "code",
      "source": [
        "# 정밀도와 재현율 곡선 시각화\n",
        "\n",
        "import matplotlib.pyplot as plt\n",
        "import matplotlib.ticker as ticker\n",
        "\n",
        "def precision_recall_curve_plot(y_test,pred_proba_c1):\n",
        "  # threshold ndarray와 이 threshold에 따른 정밀도, 재현율 ndarray 추출\n",
        "  precisions, recalls, thresholds = precision_recall_curve(y_test,pred_proba_c1)\n",
        "\n",
        "  # X축을 threshold값으로, Y축은 정밀도, 재현율 값으로 각각 Plot 수행. 정밀도는 점선으로 표시\n",
        "  plt.figure(figsize=(8,6))\n",
        "  threshold_boundary = thresholds.shape[0]\n",
        "  plt.plot(thresholds, precisions[0:threshold_boundary],linestyle='-',label='precision')\n",
        "  plt.plot(thresholds, recalls[0:threshold_boundary],label='recall')\n",
        "\n",
        "  # threshold 값 X축의 scale을 0.1 단위로 변경\n",
        "  start, end = plt.xlim()\n",
        "  plt.xticks(np.round(np.arange(start,end,0.1),2))\n",
        "\n",
        "  # x축, y축 label과 legend, 그리고 grid 설정\n",
        "  plt.xlabel('Threshold value')\n",
        "  plt.ylabel('Precision and Recall value')\n",
        "  plt.legend()\n",
        "  plt.grid()\n",
        "  plt.show()\n",
        "\n",
        "precision_recall_curve_plot(y_test, lr_clf.predict_proba(X_test)[:,1])\n",
        "\n",
        "# 임곗값이 낮을수록 많은 수의 양성 예측으로 재현율 값이 극도로 높아지고 정밀도 값이 극도로 낮아짐."
      ],
      "metadata": {
        "colab": {
          "base_uri": "https://localhost:8080/",
          "height": 388
        },
        "id": "eqA3M8bj86cp",
        "outputId": "81ce0b8f-ecd9-4b65-8783-cd9d8ebc68b5"
      },
      "execution_count": 46,
      "outputs": [
        {
          "output_type": "display_data",
          "data": {
            "text/plain": [
              "<Figure size 576x432 with 1 Axes>"
            ],
            "image/png": "[encoded data removed]"
          },
          "metadata": {
            "needs_background": "light"
          }
        }
      ]
    },
    {
      "cell_type": "markdown",
      "source": [
        "### 정밀도와 재현율의 맹점\n",
        "\n",
        "임곗값의 변경은 업무 환경에 맞게 2개의 수치를 상호 보완할 수 있는 수준에서 적용되어야 함. 정밀도, 재현율 평가 지표 수치 중 하나를 극단적으로 높이는 방법은 숫자 놀음에 불과\n",
        "\n",
        "### 정밀도 100% 가 되는 방법\n",
        "\n",
        "확실한 기준이 되는 경우만 Positive로 예측하고 나머지는 모두 Negative로 예측\n",
        "\n",
        "### 재현율 100%가 되는 방법\n",
        "\n",
        "모든 환자를 Positive로 예측하면 됨.\n",
        "\n",
        "-> 어느 한쪽만 참조하면 극단적인 수치 조작 가능"
      ],
      "metadata": {
        "id": "0ymzJ3XH_yzU"
      }
    },
    {
      "cell_type": "markdown",
      "source": [
        "## 4. F1 스코어\n",
        "\n",
        "- 정밀도와 재현율을 결합한 지표\n",
        "\n",
        "- 정밀도와 재현율이 어느 한쪽으로 치우치지 않은 수치를 나타낼 때 상대적으로 높은 값을 가짐."
      ],
      "metadata": {
        "id": "ecZOF7R1AnWu"
      }
    },
    {
      "cell_type": "code",
      "source": [
        "from sklearn.metrics import f1_score\n",
        "f1 = f1_score(y_test, pred)\n",
        "print('F1 스코어: {0:.4f}'.format(f1))"
      ],
      "metadata": {
        "colab": {
          "base_uri": "https://localhost:8080/"
        },
        "id": "FftTa1Zl_Qv-",
        "outputId": "1f26690d-ffd7-4006-8d25-a5caf28cb95a"
      },
      "execution_count": 47,
      "outputs": [
        {
          "output_type": "stream",
          "name": "stdout",
          "text": [
            "F1 스코어: 0.7805\n"
          ]
        }
      ]
    },
    {
      "cell_type": "code",
      "source": [
        "# 임곗값을 변화시키면서 F1스코어를 포함한 평가 지표 구하기\n",
        "\n",
        "def get_clf_eval(y_test, pred): \n",
        "  confusion = confusion_matrix(y_test, pred)\n",
        "  accuracy = accuracy_score(y_test, pred)\n",
        "  precision = precision_score(y_test, pred)\n",
        "  recall = recall_score(y_test, pred)\n",
        "  #F1 스코어 추가\n",
        "  f1 = f1_score(y_test, pred)\n",
        "\n",
        "  print('오차행렬')\n",
        "  print(confusion)\n",
        "\n",
        "  # F1 score print 추가  \n",
        "  print('정확도 : {0:.4f}, 정밀도 : {1:.4f}, 재현율:{2:.4f}, F1 : {3:.4f}'.format(accuracy, precision, recall, f1))\n",
        "\n",
        "thresholds = [0.4, 0.45, 0.5, 0.55, 0.6]\n",
        "pred_proba = lr_clf.predict_proba(X_test)\n",
        "get_eval_by_threshold(y_test, pred_proba[:,1].reshape(-1,1), thresholds)\n",
        "\n",
        "# f1 score는 임곗값이 0.6일 때 가장 좋은 값을 보여주지만, 재현율은 크게 감소"
      ],
      "metadata": {
        "colab": {
          "base_uri": "https://localhost:8080/"
        },
        "id": "3mWoAHWTBB5n",
        "outputId": "bad91e97-012a-4eb3-c07f-07f8138c2a9d"
      },
      "execution_count": 49,
      "outputs": [
        {
          "output_type": "stream",
          "name": "stdout",
          "text": [
            "임곗값: 0.4\n",
            "오차행렬\n",
            "[[98 20]\n",
            " [10 51]]\n",
            "정확도 : 0.8324, 정밀도 : 0.7183, 재현율:0.8361, F1 : 0.7727\n",
            "임곗값: 0.45\n",
            "오차행렬\n",
            "[[103  15]\n",
            " [ 12  49]]\n",
            "정확도 : 0.8492, 정밀도 : 0.7656, 재현율:0.8033, F1 : 0.7840\n",
            "임곗값: 0.5\n",
            "오차행렬\n",
            "[[104  14]\n",
            " [ 13  48]]\n",
            "정확도 : 0.8492, 정밀도 : 0.7742, 재현율:0.7869, F1 : 0.7805\n",
            "임곗값: 0.55\n",
            "오차행렬\n",
            "[[109   9]\n",
            " [ 15  46]]\n",
            "정확도 : 0.8659, 정밀도 : 0.8364, 재현율:0.7541, F1 : 0.7931\n",
            "임곗값: 0.6\n",
            "오차행렬\n",
            "[[112   6]\n",
            " [ 16  45]]\n",
            "정확도 : 0.8771, 정밀도 : 0.8824, 재현율:0.7377, F1 : 0.8036\n"
          ]
        }
      ]
    },
    {
      "cell_type": "markdown",
      "source": [
        "## 5. ROC 곡선과 AUC\n",
        "\n",
        "- 이진 분류의 예측 성능 측정에서 중요하게 사용되는 지표\n",
        "\n",
        "- ROC 곡선(Receiver Operation Characteristic Curve): FPR(False Positive Rate)이 변할 때 TPR(True Positive Rate, 재현율)이 어떻게 변하는지 나타내는 곡선\n",
        "\n",
        "- 민감도 (TPR): 실제값 Positive가 정확히 예측되어야 하는 수준\n",
        "\n",
        "- 특이성 (TNR): 실제값 Negative가 정확히 예측되어야 하는 수준 \n",
        "\n",
        "TNR = TN / (FP + TN)\n",
        "\n",
        "FPR = FP / (FP + TN) = 1-특이성\n",
        "\n",
        "- ROC 곡선이 가운데 직선에 가까울수록 성능이 떨어짐."
      ],
      "metadata": {
        "id": "B2tGzXPMDY7t"
      }
    },
    {
      "cell_type": "code",
      "source": [
        "from sklearn.metrics import roc_curve\n",
        "\n",
        "# 레이블값이 1일 때의 예측 확률을 추출\n",
        "pred_proba_class1 = lr_clf.predict_proba(X_test)[:,1]\n",
        "\n",
        "fprs, tprs, thresholds = roc_curve(y_test, pred_proba_class1)\n",
        "\n",
        "# 반환된 임곗값 배열 로우가 47건이므로 샘플로 10건만 추출하되, 임곗값을 5 스텝으로 추출\n",
        "# thresholds[0]은 max(예측확률)+1로 임의 설정됨, 이를 제외하기 위해 np.arange는 1부터 시작\n",
        "thr_index = np.arange(1, thresholds.shape[0], 5)\n",
        "print('샘플 추출을 위한 임곗값 배열의 index 10개 : ', thr_index)\n",
        "print('샘플용 10개의 임곗값 : ', np.round(thresholds[thr_index],2))\n",
        "\n",
        "# 5 step 단위로 추출된 임곗값에 따른 FPR, TPR 값\n",
        "print('샘플 임곗값별 FPR:', np.round(fprs[thr_index],3))\n",
        "print('샘플 임곗값별 TPR:', np.round(tprs[thr_index],3))"
      ],
      "metadata": {
        "colab": {
          "base_uri": "https://localhost:8080/"
        },
        "id": "v48Xxa6kDWtT",
        "outputId": "fa6aaac2-340e-4a0e-e48e-348b2e952472"
      },
      "execution_count": 50,
      "outputs": [
        {
          "output_type": "stream",
          "name": "stdout",
          "text": [
            "샘플 추출을 위한 임곗값 배열의 index 10개 :  [ 1  6 11 16 21 26 31 36 41 46 51]\n",
            "샘플용 10개의 임곗값 :  [0.97 0.65 0.63 0.56 0.45 0.4  0.35 0.15 0.13 0.11 0.11]\n",
            "샘플 임곗값별 FPR: [0.    0.017 0.034 0.076 0.127 0.169 0.203 0.466 0.585 0.686 0.797]\n",
            "샘플 임곗값별 TPR: [0.033 0.639 0.721 0.754 0.803 0.836 0.885 0.902 0.934 0.967 0.984]\n"
          ]
        }
      ]
    },
    {
      "cell_type": "code",
      "source": [
        "def roc_curve_plot(y_test, pred_proba_c1):\n",
        "\n",
        "  # 임곗값에 따른 FPR, TPR 값을 반환받음\n",
        "  fprs, tprs, thresholds = roc_curve(y_test, pred_proba_c1)\n",
        "\n",
        "  # ROC 곡선을 그래프 곡서능로 그림\n",
        "  plt.plot(fprs, tprs, label='ROC')\n",
        "\n",
        "  # 가운데 대각선 직선 그림\n",
        "  plt.plot([0,1],[0,1],'k--', label='Random')\n",
        "\n",
        "  # FPR X 축의 Scale을 0.1 단위로 변경, X,Y축 명 설정 등\n",
        "  start, end = plt.xlim()\n",
        "  plt.xticks(np.round(np.arange(start, end, 0.1),2))\n",
        "  plt.xlim(0,1)\n",
        "  plt.ylim(0,1)\n",
        "  plt.xlabel('FPR(1 - Sensitivity)')\n",
        "  plt.ylabel('TPR(Recall)')\n",
        "  plt.legend()\n",
        "\n",
        "roc_curve_plot(y_test, pred_proba[:,1])"
      ],
      "metadata": {
        "colab": {
          "base_uri": "https://localhost:8080/",
          "height": 283
        },
        "id": "7R_yWqGhDgYg",
        "outputId": "482c9995-16d6-4b2c-9d58-25470e14b788"
      },
      "execution_count": 51,
      "outputs": [
        {
          "output_type": "display_data",
          "data": {
            "text/plain": [
              "<Figure size 432x288 with 1 Axes>"
            ],
            "image/png": "[encoded data removed]"
          },
          "metadata": {
            "needs_background": "light"
          }
        }
      ]
    },
    {
      "cell_type": "code",
      "source": [
        "def get_clf_eval(y_test, pred=None, pred_proba=None): # 평가 한번에 호출하는 함수\n",
        "  confusion = confusion_matrix(y_test, pred)\n",
        "  accuracy = accuracy_score(y_test, pred)\n",
        "  precision = precision_score(y_test, pred)\n",
        "  recall = recall_score(y_test, pred)\n",
        "  f1 = f1_score(y_test, pred)\n",
        "\n",
        "  #ROC-AUC 추가\n",
        "  roc_auc = roc_auc_score(y_test, pred_proba)\n",
        "\n",
        "  print('오차행렬')\n",
        "  print(confusion)\n",
        "  print('정확도 : {0:.4f}, 정밀도 : {1:.4f}, 재현율:{2:.4f}, F1 : {3:.4f}, AUC : {4:.4f}'.format(accuracy, precision, recall, f1, roc_auc))"
      ],
      "metadata": {
        "id": "QaCmQq2NDjaP"
      },
      "execution_count": 52,
      "outputs": []
    },
    {
      "cell_type": "code",
      "source": [
        ""
      ],
      "metadata": {
        "id": "RiS_n5zHDl9t"
      },
      "execution_count": null,
      "outputs": []
    }
  ]
}