{
  "nbformat": 4,
  "nbformat_minor": 0,
  "metadata": {
    "colab": {
      "name": "Mini_Project.ipynb",
      "provenance": [],
      "collapsed_sections": []
    },
    "kernelspec": {
      "name": "python3",
      "display_name": "Python 3"
    },
    "language_info": {
      "name": "python"
    }
  },
  "cells": [
    {
      "cell_type": "markdown",
      "source": [
        "# [라이브러리 & 데이터]\n",
        "\n",
        "\n",
        "\n",
        "*  title : 영화의 제목\n",
        "* distributor : 배급사\n",
        "* genre : 장르\n",
        "* release_time : 개봉일\n",
        "* time : 상영시간(분)\n",
        "* screening_rat : 상영등급\n",
        "* director : 감독이름\n",
        "* dir_prev_bfnum : 해당 감독이 이 영화를 만들기 전 제작에 참여한 영화에서의 평균 관객수(단 관객수가 알려지지 않은 영화 제외)\n",
        "* dir_prev_num : 해당 감독이 이 영화를 만들기 전 제작에 참여한 영화의 개수(단 관객수가 알려지지 않은 영화 제외)\n",
        "* num_staff : 스텝수\n",
        "* num_actor : 주연배우수\n",
        "* box_off_num : 관객\n",
        "\n"
      ],
      "metadata": {
        "id": "pg446YyA_Tsc"
      }
    },
    {
      "cell_type": "code",
      "execution_count": null,
      "metadata": {
        "id": "SMbIHhJo_QYF"
      },
      "outputs": [],
      "source": [
        "import numpy as np\n",
        "import pandas as pd\n",
        "import seaborn as sns\n",
        "import matplotlib.pyplot as plt\n",
        "\n",
        "%matplotlib inline\n"
      ]
    },
    {
      "cell_type": "code",
      "source": [
        "#한글폰트 깨짐 현상 해결\n",
        "!sudo apt-get install -y fonts-nanum\n",
        "!sudo fc-cache -fv\n",
        "!rm ~/.cache/matplotlib -rf"
      ],
      "metadata": {
        "colab": {
          "base_uri": "https://localhost:8080/"
        },
        "id": "KyBP2JXx61qO",
        "outputId": "64ba2002-3c24-4b4b-a8eb-688b20659bef"
      },
      "execution_count": null,
      "outputs": [
        {
          "output_type": "stream",
          "name": "stdout",
          "text": [
            "Reading package lists... Done\n",
            "Building dependency tree       \n",
            "Reading state information... Done\n",
            "fonts-nanum is already the newest version (20170925-1).\n",
            "0 upgraded, 0 newly installed, 0 to remove and 39 not upgraded.\n",
            "/usr/share/fonts: caching, new cache contents: 0 fonts, 1 dirs\n",
            "/usr/share/fonts/truetype: caching, new cache contents: 0 fonts, 3 dirs\n",
            "/usr/share/fonts/truetype/humor-sans: caching, new cache contents: 1 fonts, 0 dirs\n",
            "/usr/share/fonts/truetype/liberation: caching, new cache contents: 16 fonts, 0 dirs\n",
            "/usr/share/fonts/truetype/nanum: caching, new cache contents: 10 fonts, 0 dirs\n",
            "/usr/local/share/fonts: caching, new cache contents: 0 fonts, 0 dirs\n",
            "/root/.local/share/fonts: skipping, no such directory\n",
            "/root/.fonts: skipping, no such directory\n",
            "/var/cache/fontconfig: cleaning cache directory\n",
            "/root/.cache/fontconfig: not cleaning non-existent cache directory\n",
            "/root/.fontconfig: not cleaning non-existent cache directory\n",
            "fc-cache: succeeded\n"
          ]
        }
      ]
    },
    {
      "cell_type": "code",
      "source": [
        "train = pd.read_csv('/content/drive/MyDrive/Colab Notebooks/ESAA/movies_train.csv')\n",
        "train"
      ],
      "metadata": {
        "colab": {
          "base_uri": "https://localhost:8080/",
          "height": 607
        },
        "id": "QqLzcJdh_tHO",
        "outputId": "f46c01a4-c738-4078-b6ff-e51f0442441a"
      },
      "execution_count": null,
      "outputs": [
        {
          "output_type": "execute_result",
          "data": {
            "text/plain": [
              "         title   distributor genre release_time  time screening_rat director  \\\n",
              "0       개들의 전쟁      롯데엔터테인먼트    액션   2012-11-22    96      청소년 관람불가      조병옥   \n",
              "1         내부자들        (주)쇼박스   느와르   2015-11-19   130      청소년 관람불가      우민호   \n",
              "2    은밀하게 위대하게        (주)쇼박스    액션   2013-06-05   123       15세 관람가      장철수   \n",
              "3     나는 공무원이다        (주)NEW   코미디   2012-07-12   101        전체 관람가      구자홍   \n",
              "4         불량남녀  쇼박스(주)미디어플렉스   코미디   2010-11-04   108       15세 관람가      신근호   \n",
              "..         ...           ...   ...          ...   ...           ...      ...   \n",
              "595         해무        (주)NEW   드라마   2014-08-13   111      청소년 관람불가      심성보   \n",
              "596       파파로티        (주)쇼박스   드라마   2013-03-14   127       15세 관람가      윤종찬   \n",
              "597      살인의 강     (주)마운틴픽쳐스    공포   2010-09-30    99      청소년 관람불가      김대현   \n",
              "598     악의 연대기     CJ 엔터테인먼트   느와르   2015-05-14   102       15세 관람가      백운학   \n",
              "599        베를린     CJ 엔터테인먼트    액션   2013-01-30   120       15세 관람가      류승완   \n",
              "\n",
              "     dir_prev_bfnum  dir_prev_num  num_staff  num_actor  box_off_num  \n",
              "0               NaN             0         91          2        23398  \n",
              "1        1161602.50             2        387          3      7072501  \n",
              "2         220775.25             4        343          4      6959083  \n",
              "3          23894.00             2         20          6       217866  \n",
              "4              1.00             1        251          2       483387  \n",
              "..              ...           ...        ...        ...          ...  \n",
              "595         3833.00             1        510          7      1475091  \n",
              "596       496061.00             1        286          6      1716438  \n",
              "597             NaN             0        123          4         2475  \n",
              "598             NaN             0        431          4      2192525  \n",
              "599             NaN             0        363          5      7166532  \n",
              "\n",
              "[600 rows x 12 columns]"
            ],
            "text/html": [
              "\n",
              "  <div id=\"df-ad274d3d-8f4c-463f-b75a-ce5686258461\">\n",
              "    <div class=\"colab-df-container\">\n",
              "      <div>\n",
              "<style scoped>\n",
              "    .dataframe tbody tr th:only-of-type {\n",
              "        vertical-align: middle;\n",
              "    }\n",
              "\n",
              "    .dataframe tbody tr th {\n",
              "        vertical-align: top;\n",
              "    }\n",
              "\n",
              "    .dataframe thead th {\n",
              "        text-align: right;\n",
              "    }\n",
              "</style>\n",
              "<table border=\"1\" class=\"dataframe\">\n",
              "  <thead>\n",
              "    <tr style=\"text-align: right;\">\n",
              "      <th></th>\n",
              "      <th>title</th>\n",
              "      <th>distributor</th>\n",
              "      <th>genre</th>\n",
              "      <th>release_time</th>\n",
              "      <th>time</th>\n",
              "      <th>screening_rat</th>\n",
              "      <th>director</th>\n",
              "      <th>dir_prev_bfnum</th>\n",
              "      <th>dir_prev_num</th>\n",
              "      <th>num_staff</th>\n",
              "      <th>num_actor</th>\n",
              "      <th>box_off_num</th>\n",
              "    </tr>\n",
              "  </thead>\n",
              "  <tbody>\n",
              "    <tr>\n",
              "      <th>0</th>\n",
              "      <td>개들의 전쟁</td>\n",
              "      <td>롯데엔터테인먼트</td>\n",
              "      <td>액션</td>\n",
              "      <td>2012-11-22</td>\n",
              "      <td>96</td>\n",
              "      <td>청소년 관람불가</td>\n",
              "      <td>조병옥</td>\n",
              "      <td>NaN</td>\n",
              "      <td>0</td>\n",
              "      <td>91</td>\n",
              "      <td>2</td>\n",
              "      <td>23398</td>\n",
              "    </tr>\n",
              "    <tr>\n",
              "      <th>1</th>\n",
              "      <td>내부자들</td>\n",
              "      <td>(주)쇼박스</td>\n",
              "      <td>느와르</td>\n",
              "      <td>2015-11-19</td>\n",
              "      <td>130</td>\n",
              "      <td>청소년 관람불가</td>\n",
              "      <td>우민호</td>\n",
              "      <td>1161602.50</td>\n",
              "      <td>2</td>\n",
              "      <td>387</td>\n",
              "      <td>3</td>\n",
              "      <td>7072501</td>\n",
              "    </tr>\n",
              "    <tr>\n",
              "      <th>2</th>\n",
              "      <td>은밀하게 위대하게</td>\n",
              "      <td>(주)쇼박스</td>\n",
              "      <td>액션</td>\n",
              "      <td>2013-06-05</td>\n",
              "      <td>123</td>\n",
              "      <td>15세 관람가</td>\n",
              "      <td>장철수</td>\n",
              "      <td>220775.25</td>\n",
              "      <td>4</td>\n",
              "      <td>343</td>\n",
              "      <td>4</td>\n",
              "      <td>6959083</td>\n",
              "    </tr>\n",
              "    <tr>\n",
              "      <th>3</th>\n",
              "      <td>나는 공무원이다</td>\n",
              "      <td>(주)NEW</td>\n",
              "      <td>코미디</td>\n",
              "      <td>2012-07-12</td>\n",
              "      <td>101</td>\n",
              "      <td>전체 관람가</td>\n",
              "      <td>구자홍</td>\n",
              "      <td>23894.00</td>\n",
              "      <td>2</td>\n",
              "      <td>20</td>\n",
              "      <td>6</td>\n",
              "      <td>217866</td>\n",
              "    </tr>\n",
              "    <tr>\n",
              "      <th>4</th>\n",
              "      <td>불량남녀</td>\n",
              "      <td>쇼박스(주)미디어플렉스</td>\n",
              "      <td>코미디</td>\n",
              "      <td>2010-11-04</td>\n",
              "      <td>108</td>\n",
              "      <td>15세 관람가</td>\n",
              "      <td>신근호</td>\n",
              "      <td>1.00</td>\n",
              "      <td>1</td>\n",
              "      <td>251</td>\n",
              "      <td>2</td>\n",
              "      <td>483387</td>\n",
              "    </tr>\n",
              "    <tr>\n",
              "      <th>...</th>\n",
              "      <td>...</td>\n",
              "      <td>...</td>\n",
              "      <td>...</td>\n",
              "      <td>...</td>\n",
              "      <td>...</td>\n",
              "      <td>...</td>\n",
              "      <td>...</td>\n",
              "      <td>...</td>\n",
              "      <td>...</td>\n",
              "      <td>...</td>\n",
              "      <td>...</td>\n",
              "      <td>...</td>\n",
              "    </tr>\n",
              "    <tr>\n",
              "      <th>595</th>\n",
              "      <td>해무</td>\n",
              "      <td>(주)NEW</td>\n",
              "      <td>드라마</td>\n",
              "      <td>2014-08-13</td>\n",
              "      <td>111</td>\n",
              "      <td>청소년 관람불가</td>\n",
              "      <td>심성보</td>\n",
              "      <td>3833.00</td>\n",
              "      <td>1</td>\n",
              "      <td>510</td>\n",
              "      <td>7</td>\n",
              "      <td>1475091</td>\n",
              "    </tr>\n",
              "    <tr>\n",
              "      <th>596</th>\n",
              "      <td>파파로티</td>\n",
              "      <td>(주)쇼박스</td>\n",
              "      <td>드라마</td>\n",
              "      <td>2013-03-14</td>\n",
              "      <td>127</td>\n",
              "      <td>15세 관람가</td>\n",
              "      <td>윤종찬</td>\n",
              "      <td>496061.00</td>\n",
              "      <td>1</td>\n",
              "      <td>286</td>\n",
              "      <td>6</td>\n",
              "      <td>1716438</td>\n",
              "    </tr>\n",
              "    <tr>\n",
              "      <th>597</th>\n",
              "      <td>살인의 강</td>\n",
              "      <td>(주)마운틴픽쳐스</td>\n",
              "      <td>공포</td>\n",
              "      <td>2010-09-30</td>\n",
              "      <td>99</td>\n",
              "      <td>청소년 관람불가</td>\n",
              "      <td>김대현</td>\n",
              "      <td>NaN</td>\n",
              "      <td>0</td>\n",
              "      <td>123</td>\n",
              "      <td>4</td>\n",
              "      <td>2475</td>\n",
              "    </tr>\n",
              "    <tr>\n",
              "      <th>598</th>\n",
              "      <td>악의 연대기</td>\n",
              "      <td>CJ 엔터테인먼트</td>\n",
              "      <td>느와르</td>\n",
              "      <td>2015-05-14</td>\n",
              "      <td>102</td>\n",
              "      <td>15세 관람가</td>\n",
              "      <td>백운학</td>\n",
              "      <td>NaN</td>\n",
              "      <td>0</td>\n",
              "      <td>431</td>\n",
              "      <td>4</td>\n",
              "      <td>2192525</td>\n",
              "    </tr>\n",
              "    <tr>\n",
              "      <th>599</th>\n",
              "      <td>베를린</td>\n",
              "      <td>CJ 엔터테인먼트</td>\n",
              "      <td>액션</td>\n",
              "      <td>2013-01-30</td>\n",
              "      <td>120</td>\n",
              "      <td>15세 관람가</td>\n",
              "      <td>류승완</td>\n",
              "      <td>NaN</td>\n",
              "      <td>0</td>\n",
              "      <td>363</td>\n",
              "      <td>5</td>\n",
              "      <td>7166532</td>\n",
              "    </tr>\n",
              "  </tbody>\n",
              "</table>\n",
              "<p>600 rows × 12 columns</p>\n",
              "</div>\n",
              "      <button class=\"colab-df-convert\" onclick=\"convertToInteractive('df-ad274d3d-8f4c-463f-b75a-ce5686258461')\"\n",
              "              title=\"Convert this dataframe to an interactive table.\"\n",
              "              style=\"display:none;\">\n",
              "        \n",
              "  <svg xmlns=\"http://www.w3.org/2000/svg\" height=\"24px\"viewBox=\"0 0 24 24\"\n",
              "       width=\"24px\">\n",
              "    <path d=\"M0 0h24v24H0V0z\" fill=\"none\"/>\n",
              "    <path d=\"M18.56 5.44l.94 2.06.94-2.06 2.06-.94-2.06-.94-.94-2.06-.94 2.06-2.06.94zm-11 1L8.5 8.5l.94-2.06 2.06-.94-2.06-.94L8.5 2.5l-.94 2.06-2.06.94zm10 10l.94 2.06.94-2.06 2.06-.94-2.06-.94-.94-2.06-.94 2.06-2.06.94z\"/><path d=\"M17.41 7.96l-1.37-1.37c-.4-.4-.92-.59-1.43-.59-.52 0-1.04.2-1.43.59L10.3 9.45l-7.72 7.72c-.78.78-.78 2.05 0 2.83L4 21.41c.39.39.9.59 1.41.59.51 0 1.02-.2 1.41-.59l7.78-7.78 2.81-2.81c.8-.78.8-2.07 0-2.86zM5.41 20L4 18.59l7.72-7.72 1.47 1.35L5.41 20z\"/>\n",
              "  </svg>\n",
              "      </button>\n",
              "      \n",
              "  <style>\n",
              "    .colab-df-container {\n",
              "      display:flex;\n",
              "      flex-wrap:wrap;\n",
              "      gap: 12px;\n",
              "    }\n",
              "\n",
              "    .colab-df-convert {\n",
              "      background-color: #E8F0FE;\n",
              "      border: none;\n",
              "      border-radius: 50%;\n",
              "      cursor: pointer;\n",
              "      display: none;\n",
              "      fill: #1967D2;\n",
              "      height: 32px;\n",
              "      padding: 0 0 0 0;\n",
              "      width: 32px;\n",
              "    }\n",
              "\n",
              "    .colab-df-convert:hover {\n",
              "      background-color: #E2EBFA;\n",
              "      box-shadow: 0px 1px 2px rgba(60, 64, 67, 0.3), 0px 1px 3px 1px rgba(60, 64, 67, 0.15);\n",
              "      fill: #174EA6;\n",
              "    }\n",
              "\n",
              "    [theme=dark] .colab-df-convert {\n",
              "      background-color: #3B4455;\n",
              "      fill: #D2E3FC;\n",
              "    }\n",
              "\n",
              "    [theme=dark] .colab-df-convert:hover {\n",
              "      background-color: #434B5C;\n",
              "      box-shadow: 0px 1px 3px 1px rgba(0, 0, 0, 0.15);\n",
              "      filter: drop-shadow(0px 1px 2px rgba(0, 0, 0, 0.3));\n",
              "      fill: #FFFFFF;\n",
              "    }\n",
              "  </style>\n",
              "\n",
              "      <script>\n",
              "        const buttonEl =\n",
              "          document.querySelector('#df-ad274d3d-8f4c-463f-b75a-ce5686258461 button.colab-df-convert');\n",
              "        buttonEl.style.display =\n",
              "          google.colab.kernel.accessAllowed ? 'block' : 'none';\n",
              "\n",
              "        async function convertToInteractive(key) {\n",
              "          const element = document.querySelector('#df-ad274d3d-8f4c-463f-b75a-ce5686258461');\n",
              "          const dataTable =\n",
              "            await google.colab.kernel.invokeFunction('convertToInteractive',\n",
              "                                                     [key], {});\n",
              "          if (!dataTable) return;\n",
              "\n",
              "          const docLinkHtml = 'Like what you see? Visit the ' +\n",
              "            '<a target=\"_blank\" href=https://colab.research.google.com/notebooks/data_table.ipynb>data table notebook</a>'\n",
              "            + ' to learn more about interactive tables.';\n",
              "          element.innerHTML = '';\n",
              "          dataTable['output_type'] = 'display_data';\n",
              "          await google.colab.output.renderOutput(dataTable, element);\n",
              "          const docLink = document.createElement('div');\n",
              "          docLink.innerHTML = docLinkHtml;\n",
              "          element.appendChild(docLink);\n",
              "        }\n",
              "      </script>\n",
              "    </div>\n",
              "  </div>\n",
              "  "
            ]
          },
          "metadata": {},
          "execution_count": 3
        }
      ]
    },
    {
      "cell_type": "markdown",
      "source": [
        "# 1. genre - num_staff 관계\n",
        "\n",
        ": 어떤 장르가 스텝 수를 많이 필요로하는 지 파악해보기\n",
        "\n",
        "* 액션 장르의 **평균스텝수**가 약 338명으로 가장 많음을 알 수 있다.\n",
        "* 다큐멘터리 장르의 **평균스텝수**가 약 18명으로 가장 적음을 알 수 있다.\n",
        "* 액션 장르의 스텝수 **중간값**이 약 339명으로 가장 많음을 알 수 있다.\n",
        "* 뮤지컬 장르의 스텝수 **중간값**이 약 3명으로 가장 적음을 알 수 있다."
      ],
      "metadata": {
        "id": "WPA34ZgtoVPM"
      }
    },
    {
      "cell_type": "code",
      "source": [
        "# 장르 별 평균 스텝수 계산\n",
        "\n",
        "train_gn = train.groupby('genre').mean()['num_staff']\n",
        "\n",
        "print(train_gn)"
      ],
      "metadata": {
        "colab": {
          "base_uri": "https://localhost:8080/"
        },
        "id": "it5msdZ5oU6s",
        "outputId": "b231b066-2492-4986-e16b-10c0c451b36e"
      },
      "execution_count": null,
      "outputs": [
        {
          "output_type": "stream",
          "name": "stdout",
          "text": [
            "genre\n",
            "SF        197.307692\n",
            "공포        176.380952\n",
            "느와르       311.074074\n",
            "다큐멘터리      17.849462\n",
            "드라마       164.484163\n",
            "멜로/로맨스    135.782051\n",
            "뮤지컬         2.200000\n",
            "미스터리      117.352941\n",
            "서스펜스      111.000000\n",
            "애니메이션      44.619048\n",
            "액션        337.535714\n",
            "코미디       209.075472\n",
            "Name: num_staff, dtype: float64\n"
          ]
        }
      ]
    },
    {
      "cell_type": "code",
      "source": [
        "import seaborn as sns\n",
        "plt.rcParams['font.family'] = 'NanumGothic'\n",
        "ax = plt.subplots()\n",
        "ax = sns.barplot(x = 'genre',y = 'num_staff',data=train)\n",
        "ax.set_title('Bar plot of average num_staff for genre')\n",
        "ax.set_xlabel('Genre')\n",
        "ax.set_ylabel('num_staff')\n",
        "plt.xticks(fontsize=10,rotation=90)\n",
        "plt.show()\n"
      ],
      "metadata": {
        "colab": {
          "base_uri": "https://localhost:8080/",
          "height": 334
        },
        "id": "uQOuLxLCx2fL",
        "outputId": "0a06912a-639b-43b2-a5c4-ae3384339581"
      },
      "execution_count": null,
      "outputs": [
        {
          "output_type": "display_data",
          "data": {
            "text/plain": [
              "<Figure size 432x288 with 1 Axes>"
            ],
            "image/png": "[encoded data removed]"
          },
          "metadata": {
            "needs_background": "light"
          }
        }
      ]
    },
    {
      "cell_type": "code",
      "source": [
        "#중간값 계산\n",
        "train.groupby('genre').median()['num_staff']"
      ],
      "metadata": {
        "colab": {
          "base_uri": "https://localhost:8080/"
        },
        "id": "gLXGwuFZ8bQy",
        "outputId": "e8b58aac-3771-4270-d643-990c6431277a"
      },
      "execution_count": null,
      "outputs": [
        {
          "output_type": "execute_result",
          "data": {
            "text/plain": [
              "genre\n",
              "SF         82.0\n",
              "공포        185.5\n",
              "느와르       319.0\n",
              "다큐멘터리       8.0\n",
              "드라마       101.0\n",
              "멜로/로맨스     66.5\n",
              "뮤지컬         3.0\n",
              "미스터리       92.0\n",
              "서스펜스      111.0\n",
              "애니메이션       8.0\n",
              "액션        338.5\n",
              "코미디       192.0\n",
              "Name: num_staff, dtype: float64"
            ]
          },
          "metadata": {},
          "execution_count": 6
        }
      ]
    },
    {
      "cell_type": "code",
      "source": [
        "#중간값으로 Bar Chart 그리기\n",
        "\n",
        "import seaborn as sns\n",
        "from numpy import median\n",
        "\n",
        "ax = plt.subplots()\n",
        "ax = sns.barplot(x = 'genre',y = 'num_staff',data=train,estimator = median)\n",
        "ax.set_title('Bar plot of average num_staff for genre')\n",
        "ax.set_xlabel('Genre')\n",
        "ax.set_ylabel('num_staff')\n",
        "plt.xticks(fontsize=10,rotation=90)\n",
        "plt.show()\n",
        "\n"
      ],
      "metadata": {
        "colab": {
          "base_uri": "https://localhost:8080/",
          "height": 334
        },
        "id": "unYjPrgm7lnH",
        "outputId": "98f20a6d-bdea-4739-991d-9252ecab4771"
      },
      "execution_count": null,
      "outputs": [
        {
          "output_type": "display_data",
          "data": {
            "text/plain": [
              "<Figure size 432x288 with 1 Axes>"
            ],
            "image/png": "[encoded data removed]"
          },
          "metadata": {
            "needs_background": "light"
          }
        }
      ]
    },
    {
      "cell_type": "markdown",
      "source": [
        "#2. genre - num_actor와의 관계\n",
        "\n",
        ": 장르별 주연배우수에 차이가 있는지 확인해보기\n",
        "\n",
        "* 각 장르변 평균 주연배우수에는 **큰 차이가 없음**\n",
        "* 드라마, 멜로/로맨스 장르의 **편차가 큼**을 알 수 있음"
      ],
      "metadata": {
        "id": "XvOwILzJ9AwR"
      }
    },
    {
      "cell_type": "code",
      "source": [
        "#장르별 주연배우 수의 평균 구하기\n",
        "\n",
        "train.groupby('genre')['num_actor'].mean()"
      ],
      "metadata": {
        "colab": {
          "base_uri": "https://localhost:8080/"
        },
        "id": "ssh68Zyz9K52",
        "outputId": "7044d34b-0e99-48e5-bc21-016d929cfd84"
      },
      "execution_count": null,
      "outputs": [
        {
          "output_type": "execute_result",
          "data": {
            "text/plain": [
              "genre\n",
              "SF        3.692308\n",
              "공포        3.880952\n",
              "느와르       3.592593\n",
              "다큐멘터리     3.268817\n",
              "드라마       3.647059\n",
              "멜로/로맨스    3.410256\n",
              "뮤지컬       2.800000\n",
              "미스터리      2.882353\n",
              "서스펜스      3.000000\n",
              "애니메이션     5.666667\n",
              "액션        3.607143\n",
              "코미디       4.735849\n",
              "Name: num_actor, dtype: float64"
            ]
          },
          "metadata": {},
          "execution_count": 8
        }
      ]
    },
    {
      "cell_type": "code",
      "source": [
        "#장르별 주연배우수의 최댓값 구하기\n",
        "\n",
        "train.groupby('genre')['num_actor'].max()"
      ],
      "metadata": {
        "colab": {
          "base_uri": "https://localhost:8080/"
        },
        "id": "x5DK8fIT9Umg",
        "outputId": "812e11de-547f-44b0-9cd2-d9d6a40badc6"
      },
      "execution_count": null,
      "outputs": [
        {
          "output_type": "execute_result",
          "data": {
            "text/plain": [
              "genre\n",
              "SF        10\n",
              "공포        13\n",
              "느와르       10\n",
              "다큐멘터리     14\n",
              "드라마       25\n",
              "멜로/로맨스    22\n",
              "뮤지컬        5\n",
              "미스터리       4\n",
              "서스펜스       4\n",
              "애니메이션     10\n",
              "액션        11\n",
              "코미디       13\n",
              "Name: num_actor, dtype: int64"
            ]
          },
          "metadata": {},
          "execution_count": 9
        }
      ]
    },
    {
      "cell_type": "code",
      "source": [
        "#장르별 주연배우수의 중간값 구하기\n",
        "\n",
        "train.groupby('genre')['num_actor'].median()"
      ],
      "metadata": {
        "colab": {
          "base_uri": "https://localhost:8080/"
        },
        "id": "lO-KpxN-9e1k",
        "outputId": "1d81ddcf-587b-4a1a-9a6a-d86f208a31cb"
      },
      "execution_count": null,
      "outputs": [
        {
          "output_type": "execute_result",
          "data": {
            "text/plain": [
              "genre\n",
              "SF        3.0\n",
              "공포        3.0\n",
              "느와르       3.0\n",
              "다큐멘터리     2.0\n",
              "드라마       3.0\n",
              "멜로/로맨스    3.0\n",
              "뮤지컬       4.0\n",
              "미스터리      3.0\n",
              "서스펜스      3.0\n",
              "애니메이션     6.0\n",
              "액션        3.0\n",
              "코미디       4.0\n",
              "Name: num_actor, dtype: float64"
            ]
          },
          "metadata": {},
          "execution_count": 10
        }
      ]
    },
    {
      "cell_type": "code",
      "source": [
        "plt.figure(figsize = (15,10))\n",
        "ax = sns.violinplot(x = 'genre', y = 'num_actor',data=train,width=1.5)\n",
        "ax.set_title('Violin plot of num_actor by genre',fontsize=15)\n",
        "ax.set_xlabel('genre',fontsize=15)\n",
        "ax.set_ylabel('num_actor',fontsize=15)\n",
        "plt.xticks(fontsize=15,rotation=90)\n",
        "plt.show()"
      ],
      "metadata": {
        "colab": {
          "base_uri": "https://localhost:8080/",
          "height": 695
        },
        "id": "swx_IeRs9tbO",
        "outputId": "603be879-44f1-4f52-8769-570fb5523b11"
      },
      "execution_count": null,
      "outputs": [
        {
          "output_type": "display_data",
          "data": {
            "text/plain": [
              "<Figure size 1080x720 with 1 Axes>"
            ],
            "image/png": "[encoded data removed]"
          },
          "metadata": {
            "needs_background": "light"
          }
        }
      ]
    },
    {
      "cell_type": "markdown",
      "source": [
        "# 3. genre - dir_prev_num 의 관계\n",
        "\n",
        ": 어떤 장르가 신인감독이 많은지 파악해보기\n",
        "\n",
        "* **다큐멘터리**와 **애니메이션 장르**에서 신인감독이 많음.\n",
        "* **뮤지컬** 장르에는 신인감독밖에 없음.\n"
      ],
      "metadata": {
        "id": "9mXfc7QIKUUn"
      }
    },
    {
      "cell_type": "code",
      "source": [
        "#장르별 감독의 전작 수 Count\n",
        "train.groupby('genre')['dir_prev_num'].value_counts()"
      ],
      "metadata": {
        "colab": {
          "base_uri": "https://localhost:8080/"
        },
        "id": "qyEfDZ0OKpWK",
        "outputId": "a939e91f-4a50-4a06-ffc5-948425cd1dba"
      },
      "execution_count": null,
      "outputs": [
        {
          "output_type": "execute_result",
          "data": {
            "text/plain": [
              "genre   dir_prev_num\n",
              "SF      0                 4\n",
              "        2                 4\n",
              "        1                 3\n",
              "        3                 2\n",
              "공포      0                21\n",
              "        1                 9\n",
              "        2                 5\n",
              "        4                 4\n",
              "        3                 2\n",
              "        5                 1\n",
              "느와르     0                 8\n",
              "        1                 8\n",
              "        2                 6\n",
              "        3                 5\n",
              "다큐멘터리   0                72\n",
              "        1                11\n",
              "        2                 6\n",
              "        3                 2\n",
              "        4                 2\n",
              "드라마     0               125\n",
              "        1                43\n",
              "        2                32\n",
              "        3                12\n",
              "        4                 8\n",
              "        5                 1\n",
              "멜로/로맨스  0                38\n",
              "        1                17\n",
              "        2                12\n",
              "        3                 9\n",
              "        4                 1\n",
              "        5                 1\n",
              "뮤지컬     0                 5\n",
              "미스터리    0                 6\n",
              "        1                 5\n",
              "        2                 4\n",
              "        3                 1\n",
              "        5                 1\n",
              "서스펜스    0                 1\n",
              "        2                 1\n",
              "애니메이션   0                20\n",
              "        1                 1\n",
              "액션      0                 8\n",
              "        3                 7\n",
              "        2                 6\n",
              "        4                 4\n",
              "        1                 3\n",
              "코미디     0                22\n",
              "        1                13\n",
              "        2                10\n",
              "        3                 7\n",
              "        4                 1\n",
              "Name: dir_prev_num, dtype: int64"
            ]
          },
          "metadata": {},
          "execution_count": 12
        }
      ]
    },
    {
      "cell_type": "code",
      "source": [
        "#장르별 신인감독 비율 측정\n",
        "\n",
        "import seaborn as sns\n",
        "\n",
        "ax = plt.subplots()\n",
        "ax = sns.boxplot(x = 'genre',y = 'dir_prev_num',data=train)\n",
        "ax.set_title('Boxplot of dir_prev_num by genre')\n",
        "ax.set_xlabel('Genre')\n",
        "ax.set_ylabel('director previous movie number')\n",
        "plt.xticks(fontsize=10,rotation=90)"
      ],
      "metadata": {
        "colab": {
          "base_uri": "https://localhost:8080/",
          "height": 371
        },
        "id": "Wzff4LyOLgV_",
        "outputId": "c8f61461-26fb-4e1f-d6ba-f3615918dad0"
      },
      "execution_count": null,
      "outputs": [
        {
          "output_type": "execute_result",
          "data": {
            "text/plain": [
              "(array([ 0,  1,  2,  3,  4,  5,  6,  7,  8,  9, 10, 11]),\n",
              " <a list of 12 Text major ticklabel objects>)"
            ]
          },
          "metadata": {},
          "execution_count": 13
        },
        {
          "output_type": "display_data",
          "data": {
            "text/plain": [
              "<Figure size 432x288 with 1 Axes>"
            ],
            "image/png": "[encoded data removed]"
          },
          "metadata": {
            "needs_background": "light"
          }
        }
      ]
    },
    {
      "cell_type": "code",
      "source": [
        "ax = plt.subplots()\n",
        "ax = sns.boxplot(x = 'genre',y = 'dir_prev_num',data=train,order=['다큐멘터리','뮤지컬','애니메이션'])\n",
        "ax.set_title('Boxplot of dir_prev_num by genre')\n",
        "ax.set_xlabel('Genre')\n",
        "ax.set_ylabel('director previous movie number')\n",
        "plt.xticks(fontsize=10,rotation=90)"
      ],
      "metadata": {
        "colab": {
          "base_uri": "https://localhost:8080/",
          "height": 349
        },
        "id": "MTzcr3-rP659",
        "outputId": "c649791b-8240-495c-c14c-96db4025844f"
      },
      "execution_count": null,
      "outputs": [
        {
          "output_type": "execute_result",
          "data": {
            "text/plain": [
              "(array([0, 1, 2]), <a list of 3 Text major ticklabel objects>)"
            ]
          },
          "metadata": {},
          "execution_count": 14
        },
        {
          "output_type": "display_data",
          "data": {
            "text/plain": [
              "<Figure size 432x288 with 1 Axes>"
            ],
            "image/png": "[encoded data removed]"
          },
          "metadata": {
            "needs_background": "light"
          }
        }
      ]
    },
    {
      "cell_type": "markdown",
      "source": [
        "# 4. month - box off num 관계 \n",
        "\n",
        ":월 별 총 평균 관람객 수를 비교하여 특정 월에 관객수의 많고 적음을 파악해보기\n",
        "\n",
        "- 연말인 12월에 평균 관객수는 약 1000만명으로 가장 많음을 알 수 있다.\n",
        "\n",
        "- 다음으로 휴가철인 1,7,8월에도 평균 관람객수는 약 900만명으로 많은 편임을 알 수 있다.\n",
        "\n",
        "- 새 학기가 시작되는 3,4월에 평균 관람객수는 약 200만명으로 가장 적음을 알 수 있다."
      ],
      "metadata": {
        "id": "UQf_azWGa50l"
      }
    },
    {
      "cell_type": "code",
      "source": [
        "# release_time 변수를 통해 month, year열 생성\n",
        "\n",
        "train['month']=0 # train 데이터에 month열 생성\n",
        "train['year']=0\n",
        "\n",
        "# release_time을 '-'를 기준으로 분할하여 month, year열에 대입\n",
        "for i in range(len(train)):\n",
        "  train['month'][i]=train['release_time'].agg(lambda x: x.split('-'))[i][1]\n",
        "\n",
        "for i in range(len(train)):\n",
        "  train['year'][i]=train['release_time'].agg(lambda x: x.split('-'))[i][0]\n",
        "train.head()"
      ],
      "metadata": {
        "id": "pX4n1qeaa5KA",
        "colab": {
          "base_uri": "https://localhost:8080/",
          "height": 631
        },
        "outputId": "5ee50c6c-aa9b-49ff-eac6-2c5fa505d984"
      },
      "execution_count": null,
      "outputs": [
        {
          "output_type": "stream",
          "name": "stderr",
          "text": [
            "/usr/local/lib/python3.7/dist-packages/ipykernel_launcher.py:8: SettingWithCopyWarning: \n",
            "A value is trying to be set on a copy of a slice from a DataFrame\n",
            "\n",
            "See the caveats in the documentation: https://pandas.pydata.org/pandas-docs/stable/user_guide/indexing.html#returning-a-view-versus-a-copy\n",
            "  \n",
            "/usr/local/lib/python3.7/dist-packages/ipykernel_launcher.py:11: SettingWithCopyWarning: \n",
            "A value is trying to be set on a copy of a slice from a DataFrame\n",
            "\n",
            "See the caveats in the documentation: https://pandas.pydata.org/pandas-docs/stable/user_guide/indexing.html#returning-a-view-versus-a-copy\n",
            "  # This is added back by InteractiveShellApp.init_path()\n"
          ]
        },
        {
          "output_type": "execute_result",
          "data": {
            "text/plain": [
              "       title   distributor genre release_time  time screening_rat director  \\\n",
              "0     개들의 전쟁      롯데엔터테인먼트    액션   2012-11-22    96      청소년 관람불가      조병옥   \n",
              "1       내부자들        (주)쇼박스   느와르   2015-11-19   130      청소년 관람불가      우민호   \n",
              "2  은밀하게 위대하게        (주)쇼박스    액션   2013-06-05   123       15세 관람가      장철수   \n",
              "3   나는 공무원이다        (주)NEW   코미디   2012-07-12   101        전체 관람가      구자홍   \n",
              "4       불량남녀  쇼박스(주)미디어플렉스   코미디   2010-11-04   108       15세 관람가      신근호   \n",
              "\n",
              "   dir_prev_bfnum  dir_prev_num  num_staff  num_actor  box_off_num  month  \\\n",
              "0             NaN             0         91          2        23398     11   \n",
              "1      1161602.50             2        387          3      7072501     11   \n",
              "2       220775.25             4        343          4      6959083      6   \n",
              "3        23894.00             2         20          6       217866      7   \n",
              "4            1.00             1        251          2       483387     11   \n",
              "\n",
              "   year  \n",
              "0  2012  \n",
              "1  2015  \n",
              "2  2013  \n",
              "3  2012  \n",
              "4  2010  "
            ],
            "text/html": [
              "\n",
              "  <div id=\"df-ee2365fd-1dc7-4458-b6ae-2639305b82e1\">\n",
              "    <div class=\"colab-df-container\">\n",
              "      <div>\n",
              "<style scoped>\n",
              "    .dataframe tbody tr th:only-of-type {\n",
              "        vertical-align: middle;\n",
              "    }\n",
              "\n",
              "    .dataframe tbody tr th {\n",
              "        vertical-align: top;\n",
              "    }\n",
              "\n",
              "    .dataframe thead th {\n",
              "        text-align: right;\n",
              "    }\n",
              "</style>\n",
              "<table border=\"1\" class=\"dataframe\">\n",
              "  <thead>\n",
              "    <tr style=\"text-align: right;\">\n",
              "      <th></th>\n",
              "      <th>title</th>\n",
              "      <th>distributor</th>\n",
              "      <th>genre</th>\n",
              "      <th>release_time</th>\n",
              "      <th>time</th>\n",
              "      <th>screening_rat</th>\n",
              "      <th>director</th>\n",
              "      <th>dir_prev_bfnum</th>\n",
              "      <th>dir_prev_num</th>\n",
              "      <th>num_staff</th>\n",
              "      <th>num_actor</th>\n",
              "      <th>box_off_num</th>\n",
              "      <th>month</th>\n",
              "      <th>year</th>\n",
              "    </tr>\n",
              "  </thead>\n",
              "  <tbody>\n",
              "    <tr>\n",
              "      <th>0</th>\n",
              "      <td>개들의 전쟁</td>\n",
              "      <td>롯데엔터테인먼트</td>\n",
              "      <td>액션</td>\n",
              "      <td>2012-11-22</td>\n",
              "      <td>96</td>\n",
              "      <td>청소년 관람불가</td>\n",
              "      <td>조병옥</td>\n",
              "      <td>NaN</td>\n",
              "      <td>0</td>\n",
              "      <td>91</td>\n",
              "      <td>2</td>\n",
              "      <td>23398</td>\n",
              "      <td>11</td>\n",
              "      <td>2012</td>\n",
              "    </tr>\n",
              "    <tr>\n",
              "      <th>1</th>\n",
              "      <td>내부자들</td>\n",
              "      <td>(주)쇼박스</td>\n",
              "      <td>느와르</td>\n",
              "      <td>2015-11-19</td>\n",
              "      <td>130</td>\n",
              "      <td>청소년 관람불가</td>\n",
              "      <td>우민호</td>\n",
              "      <td>1161602.50</td>\n",
              "      <td>2</td>\n",
              "      <td>387</td>\n",
              "      <td>3</td>\n",
              "      <td>7072501</td>\n",
              "      <td>11</td>\n",
              "      <td>2015</td>\n",
              "    </tr>\n",
              "    <tr>\n",
              "      <th>2</th>\n",
              "      <td>은밀하게 위대하게</td>\n",
              "      <td>(주)쇼박스</td>\n",
              "      <td>액션</td>\n",
              "      <td>2013-06-05</td>\n",
              "      <td>123</td>\n",
              "      <td>15세 관람가</td>\n",
              "      <td>장철수</td>\n",
              "      <td>220775.25</td>\n",
              "      <td>4</td>\n",
              "      <td>343</td>\n",
              "      <td>4</td>\n",
              "      <td>6959083</td>\n",
              "      <td>6</td>\n",
              "      <td>2013</td>\n",
              "    </tr>\n",
              "    <tr>\n",
              "      <th>3</th>\n",
              "      <td>나는 공무원이다</td>\n",
              "      <td>(주)NEW</td>\n",
              "      <td>코미디</td>\n",
              "      <td>2012-07-12</td>\n",
              "      <td>101</td>\n",
              "      <td>전체 관람가</td>\n",
              "      <td>구자홍</td>\n",
              "      <td>23894.00</td>\n",
              "      <td>2</td>\n",
              "      <td>20</td>\n",
              "      <td>6</td>\n",
              "      <td>217866</td>\n",
              "      <td>7</td>\n",
              "      <td>2012</td>\n",
              "    </tr>\n",
              "    <tr>\n",
              "      <th>4</th>\n",
              "      <td>불량남녀</td>\n",
              "      <td>쇼박스(주)미디어플렉스</td>\n",
              "      <td>코미디</td>\n",
              "      <td>2010-11-04</td>\n",
              "      <td>108</td>\n",
              "      <td>15세 관람가</td>\n",
              "      <td>신근호</td>\n",
              "      <td>1.00</td>\n",
              "      <td>1</td>\n",
              "      <td>251</td>\n",
              "      <td>2</td>\n",
              "      <td>483387</td>\n",
              "      <td>11</td>\n",
              "      <td>2010</td>\n",
              "    </tr>\n",
              "  </tbody>\n",
              "</table>\n",
              "</div>\n",
              "      <button class=\"colab-df-convert\" onclick=\"convertToInteractive('df-ee2365fd-1dc7-4458-b6ae-2639305b82e1')\"\n",
              "              title=\"Convert this dataframe to an interactive table.\"\n",
              "              style=\"display:none;\">\n",
              "        \n",
              "  <svg xmlns=\"http://www.w3.org/2000/svg\" height=\"24px\"viewBox=\"0 0 24 24\"\n",
              "       width=\"24px\">\n",
              "    <path d=\"M0 0h24v24H0V0z\" fill=\"none\"/>\n",
              "    <path d=\"M18.56 5.44l.94 2.06.94-2.06 2.06-.94-2.06-.94-.94-2.06-.94 2.06-2.06.94zm-11 1L8.5 8.5l.94-2.06 2.06-.94-2.06-.94L8.5 2.5l-.94 2.06-2.06.94zm10 10l.94 2.06.94-2.06 2.06-.94-2.06-.94-.94-2.06-.94 2.06-2.06.94z\"/><path d=\"M17.41 7.96l-1.37-1.37c-.4-.4-.92-.59-1.43-.59-.52 0-1.04.2-1.43.59L10.3 9.45l-7.72 7.72c-.78.78-.78 2.05 0 2.83L4 21.41c.39.39.9.59 1.41.59.51 0 1.02-.2 1.41-.59l7.78-7.78 2.81-2.81c.8-.78.8-2.07 0-2.86zM5.41 20L4 18.59l7.72-7.72 1.47 1.35L5.41 20z\"/>\n",
              "  </svg>\n",
              "      </button>\n",
              "      \n",
              "  <style>\n",
              "    .colab-df-container {\n",
              "      display:flex;\n",
              "      flex-wrap:wrap;\n",
              "      gap: 12px;\n",
              "    }\n",
              "\n",
              "    .colab-df-convert {\n",
              "      background-color: #E8F0FE;\n",
              "      border: none;\n",
              "      border-radius: 50%;\n",
              "      cursor: pointer;\n",
              "      display: none;\n",
              "      fill: #1967D2;\n",
              "      height: 32px;\n",
              "      padding: 0 0 0 0;\n",
              "      width: 32px;\n",
              "    }\n",
              "\n",
              "    .colab-df-convert:hover {\n",
              "      background-color: #E2EBFA;\n",
              "      box-shadow: 0px 1px 2px rgba(60, 64, 67, 0.3), 0px 1px 3px 1px rgba(60, 64, 67, 0.15);\n",
              "      fill: #174EA6;\n",
              "    }\n",
              "\n",
              "    [theme=dark] .colab-df-convert {\n",
              "      background-color: #3B4455;\n",
              "      fill: #D2E3FC;\n",
              "    }\n",
              "\n",
              "    [theme=dark] .colab-df-convert:hover {\n",
              "      background-color: #434B5C;\n",
              "      box-shadow: 0px 1px 3px 1px rgba(0, 0, 0, 0.15);\n",
              "      filter: drop-shadow(0px 1px 2px rgba(0, 0, 0, 0.3));\n",
              "      fill: #FFFFFF;\n",
              "    }\n",
              "  </style>\n",
              "\n",
              "      <script>\n",
              "        const buttonEl =\n",
              "          document.querySelector('#df-ee2365fd-1dc7-4458-b6ae-2639305b82e1 button.colab-df-convert');\n",
              "        buttonEl.style.display =\n",
              "          google.colab.kernel.accessAllowed ? 'block' : 'none';\n",
              "\n",
              "        async function convertToInteractive(key) {\n",
              "          const element = document.querySelector('#df-ee2365fd-1dc7-4458-b6ae-2639305b82e1');\n",
              "          const dataTable =\n",
              "            await google.colab.kernel.invokeFunction('convertToInteractive',\n",
              "                                                     [key], {});\n",
              "          if (!dataTable) return;\n",
              "\n",
              "          const docLinkHtml = 'Like what you see? Visit the ' +\n",
              "            '<a target=\"_blank\" href=https://colab.research.google.com/notebooks/data_table.ipynb>data table notebook</a>'\n",
              "            + ' to learn more about interactive tables.';\n",
              "          element.innerHTML = '';\n",
              "          dataTable['output_type'] = 'display_data';\n",
              "          await google.colab.output.renderOutput(dataTable, element);\n",
              "          const docLink = document.createElement('div');\n",
              "          docLink.innerHTML = docLinkHtml;\n",
              "          element.appendChild(docLink);\n",
              "        }\n",
              "      </script>\n",
              "    </div>\n",
              "  </div>\n",
              "  "
            ]
          },
          "metadata": {},
          "execution_count": 15
        }
      ]
    },
    {
      "cell_type": "code",
      "source": [
        "print(train['year'].unique())\n",
        "year_num=len(train['year'].unique()) # 2010~2015년까지 6개년의 데이터\n",
        "\n",
        "# 월 별 평균 관객수가 많은 순서대로 정렬\n",
        "((train[['month','box_off_num']].groupby('month').sum('box_off_num').sort_values(['box_off_num'],ascending=False))/year_num).astype('int') "
      ],
      "metadata": {
        "id": "gLlPNoPWePqu",
        "colab": {
          "base_uri": "https://localhost:8080/",
          "height": 475
        },
        "outputId": "adc796ed-a57b-4d37-ec34-2bc8ff784d2e"
      },
      "execution_count": null,
      "outputs": [
        {
          "output_type": "stream",
          "name": "stdout",
          "text": [
            "[2012 2015 2013 2010 2014 2011]\n"
          ]
        },
        {
          "output_type": "execute_result",
          "data": {
            "text/plain": [
              "       box_off_num\n",
              "month             \n",
              "12        10520689\n",
              "8          9433982\n",
              "7          9096092\n",
              "1          8878548\n",
              "9          7315286\n",
              "11         5947846\n",
              "5          5469009\n",
              "10         3859041\n",
              "2          3425630\n",
              "6          2476051\n",
              "3          2373690\n",
              "4          2022305"
            ],
            "text/html": [
              "\n",
              "  <div id=\"df-c669ec8d-8913-4f68-bdf1-4b3289dcbbf6\">\n",
              "    <div class=\"colab-df-container\">\n",
              "      <div>\n",
              "<style scoped>\n",
              "    .dataframe tbody tr th:only-of-type {\n",
              "        vertical-align: middle;\n",
              "    }\n",
              "\n",
              "    .dataframe tbody tr th {\n",
              "        vertical-align: top;\n",
              "    }\n",
              "\n",
              "    .dataframe thead th {\n",
              "        text-align: right;\n",
              "    }\n",
              "</style>\n",
              "<table border=\"1\" class=\"dataframe\">\n",
              "  <thead>\n",
              "    <tr style=\"text-align: right;\">\n",
              "      <th></th>\n",
              "      <th>box_off_num</th>\n",
              "    </tr>\n",
              "    <tr>\n",
              "      <th>month</th>\n",
              "      <th></th>\n",
              "    </tr>\n",
              "  </thead>\n",
              "  <tbody>\n",
              "    <tr>\n",
              "      <th>12</th>\n",
              "      <td>10520689</td>\n",
              "    </tr>\n",
              "    <tr>\n",
              "      <th>8</th>\n",
              "      <td>9433982</td>\n",
              "    </tr>\n",
              "    <tr>\n",
              "      <th>7</th>\n",
              "      <td>9096092</td>\n",
              "    </tr>\n",
              "    <tr>\n",
              "      <th>1</th>\n",
              "      <td>8878548</td>\n",
              "    </tr>\n",
              "    <tr>\n",
              "      <th>9</th>\n",
              "      <td>7315286</td>\n",
              "    </tr>\n",
              "    <tr>\n",
              "      <th>11</th>\n",
              "      <td>5947846</td>\n",
              "    </tr>\n",
              "    <tr>\n",
              "      <th>5</th>\n",
              "      <td>5469009</td>\n",
              "    </tr>\n",
              "    <tr>\n",
              "      <th>10</th>\n",
              "      <td>3859041</td>\n",
              "    </tr>\n",
              "    <tr>\n",
              "      <th>2</th>\n",
              "      <td>3425630</td>\n",
              "    </tr>\n",
              "    <tr>\n",
              "      <th>6</th>\n",
              "      <td>2476051</td>\n",
              "    </tr>\n",
              "    <tr>\n",
              "      <th>3</th>\n",
              "      <td>2373690</td>\n",
              "    </tr>\n",
              "    <tr>\n",
              "      <th>4</th>\n",
              "      <td>2022305</td>\n",
              "    </tr>\n",
              "  </tbody>\n",
              "</table>\n",
              "</div>\n",
              "      <button class=\"colab-df-convert\" onclick=\"convertToInteractive('df-c669ec8d-8913-4f68-bdf1-4b3289dcbbf6')\"\n",
              "              title=\"Convert this dataframe to an interactive table.\"\n",
              "              style=\"display:none;\">\n",
              "        \n",
              "  <svg xmlns=\"http://www.w3.org/2000/svg\" height=\"24px\"viewBox=\"0 0 24 24\"\n",
              "       width=\"24px\">\n",
              "    <path d=\"M0 0h24v24H0V0z\" fill=\"none\"/>\n",
              "    <path d=\"M18.56 5.44l.94 2.06.94-2.06 2.06-.94-2.06-.94-.94-2.06-.94 2.06-2.06.94zm-11 1L8.5 8.5l.94-2.06 2.06-.94-2.06-.94L8.5 2.5l-.94 2.06-2.06.94zm10 10l.94 2.06.94-2.06 2.06-.94-2.06-.94-.94-2.06-.94 2.06-2.06.94z\"/><path d=\"M17.41 7.96l-1.37-1.37c-.4-.4-.92-.59-1.43-.59-.52 0-1.04.2-1.43.59L10.3 9.45l-7.72 7.72c-.78.78-.78 2.05 0 2.83L4 21.41c.39.39.9.59 1.41.59.51 0 1.02-.2 1.41-.59l7.78-7.78 2.81-2.81c.8-.78.8-2.07 0-2.86zM5.41 20L4 18.59l7.72-7.72 1.47 1.35L5.41 20z\"/>\n",
              "  </svg>\n",
              "      </button>\n",
              "      \n",
              "  <style>\n",
              "    .colab-df-container {\n",
              "      display:flex;\n",
              "      flex-wrap:wrap;\n",
              "      gap: 12px;\n",
              "    }\n",
              "\n",
              "    .colab-df-convert {\n",
              "      background-color: #E8F0FE;\n",
              "      border: none;\n",
              "      border-radius: 50%;\n",
              "      cursor: pointer;\n",
              "      display: none;\n",
              "      fill: #1967D2;\n",
              "      height: 32px;\n",
              "      padding: 0 0 0 0;\n",
              "      width: 32px;\n",
              "    }\n",
              "\n",
              "    .colab-df-convert:hover {\n",
              "      background-color: #E2EBFA;\n",
              "      box-shadow: 0px 1px 2px rgba(60, 64, 67, 0.3), 0px 1px 3px 1px rgba(60, 64, 67, 0.15);\n",
              "      fill: #174EA6;\n",
              "    }\n",
              "\n",
              "    [theme=dark] .colab-df-convert {\n",
              "      background-color: #3B4455;\n",
              "      fill: #D2E3FC;\n",
              "    }\n",
              "\n",
              "    [theme=dark] .colab-df-convert:hover {\n",
              "      background-color: #434B5C;\n",
              "      box-shadow: 0px 1px 3px 1px rgba(0, 0, 0, 0.15);\n",
              "      filter: drop-shadow(0px 1px 2px rgba(0, 0, 0, 0.3));\n",
              "      fill: #FFFFFF;\n",
              "    }\n",
              "  </style>\n",
              "\n",
              "      <script>\n",
              "        const buttonEl =\n",
              "          document.querySelector('#df-c669ec8d-8913-4f68-bdf1-4b3289dcbbf6 button.colab-df-convert');\n",
              "        buttonEl.style.display =\n",
              "          google.colab.kernel.accessAllowed ? 'block' : 'none';\n",
              "\n",
              "        async function convertToInteractive(key) {\n",
              "          const element = document.querySelector('#df-c669ec8d-8913-4f68-bdf1-4b3289dcbbf6');\n",
              "          const dataTable =\n",
              "            await google.colab.kernel.invokeFunction('convertToInteractive',\n",
              "                                                     [key], {});\n",
              "          if (!dataTable) return;\n",
              "\n",
              "          const docLinkHtml = 'Like what you see? Visit the ' +\n",
              "            '<a target=\"_blank\" href=https://colab.research.google.com/notebooks/data_table.ipynb>data table notebook</a>'\n",
              "            + ' to learn more about interactive tables.';\n",
              "          element.innerHTML = '';\n",
              "          dataTable['output_type'] = 'display_data';\n",
              "          await google.colab.output.renderOutput(dataTable, element);\n",
              "          const docLink = document.createElement('div');\n",
              "          docLink.innerHTML = docLinkHtml;\n",
              "          element.appendChild(docLink);\n",
              "        }\n",
              "      </script>\n",
              "    </div>\n",
              "  </div>\n",
              "  "
            ]
          },
          "metadata": {},
          "execution_count": 16
        }
      ]
    },
    {
      "cell_type": "code",
      "source": [
        "# month와 box_off_num 간의 barplot 구하기\n",
        "ax=((train[['month','box_off_num']].groupby('month').sum('box_off_num'))/year_num).astype('int').plot(kind='bar')\n",
        "ax.set_title('Bar plot of box_off_num for month')\n",
        "ax.set_xlabel('month')\n",
        "ax.set_ylabel('box_off_num')\n",
        "plt.show()"
      ],
      "metadata": {
        "id": "4MfVxWYdeaMR",
        "colab": {
          "base_uri": "https://localhost:8080/",
          "height": 315
        },
        "outputId": "343a53a2-3e3c-4617-9401-939f115b9819"
      },
      "execution_count": null,
      "outputs": [
        {
          "output_type": "execute_result",
          "data": {
            "text/plain": [
              "<function matplotlib.pyplot.show>"
            ]
          },
          "metadata": {},
          "execution_count": 17
        },
        {
          "output_type": "display_data",
          "data": {
            "text/plain": [
              "<Figure size 432x288 with 1 Axes>"
            ],
            "image/png": "[encoded data removed]"
          },
          "metadata": {
            "needs_background": "light"
          }
        }
      ]
    },
    {
      "cell_type": "markdown",
      "source": [
        "# 5. genre - year 관계\n",
        ":연도 별로 장르 별 개봉한 영화의 개수를 파악하여 특정 장르의 영화가 얼마나 개봉했는지 파악해보기 \n",
        "\n",
        "-> 특정 장르가 인기를 끌었던 시기 파악하기\n",
        "\n",
        "- 매년 전반적으로 드라마 장르의 영화를 많이 개봉했으며 14년도에 특히 더 많았음을 알 수 있다.\n",
        "\n",
        "- SF 장르의 영화를 15년도에 특히 더 많이 개봉했음을 알 수 있다.\n",
        "\n",
        "- 공포 장르의 영화를 10,15년도에 특히 더 많이 개봉했음을 알 수 있다.\n",
        "\n",
        "- 다큐멘터리 장르의 영화를 14년도에 특히 더 많이 개봉했음을 알 수 있다.\n",
        "\n",
        "- 애니메이션 장르의 영화는 11,14,15년도에 많이 개봉했음을 알 수 있다."
      ],
      "metadata": {
        "id": "a3DenmZ9eqqR"
      }
    },
    {
      "cell_type": "code",
      "source": [
        "year_genre=train[['year','genre','title']].groupby(['year','genre']).count() # 연도 별 장르 별 개봉 영화 수\n",
        "year_genre.reset_index(inplace=True)\n",
        "year_genre.rename(columns={'title':'count'},inplace=True)\n",
        "year_genre"
      ],
      "metadata": {
        "id": "yBxNyKLFetHf",
        "colab": {
          "base_uri": "https://localhost:8080/",
          "height": 423
        },
        "outputId": "f1105da8-8ead-451b-d908-71ed24956b2d"
      },
      "execution_count": null,
      "outputs": [
        {
          "output_type": "execute_result",
          "data": {
            "text/plain": [
              "    year  genre  count\n",
              "0   2010     SF      1\n",
              "1   2010     공포      9\n",
              "2   2010    느와르      5\n",
              "3   2010  다큐멘터리     14\n",
              "4   2010    드라마     36\n",
              "..   ...    ...    ...\n",
              "59  2015    뮤지컬      1\n",
              "60  2015   미스터리      4\n",
              "61  2015  애니메이션      5\n",
              "62  2015     액션      7\n",
              "63  2015    코미디      9\n",
              "\n",
              "[64 rows x 3 columns]"
            ],
            "text/html": [
              "\n",
              "  <div id=\"df-c2c6f6d8-7a48-45e5-a5ed-534f3fb8f2f6\">\n",
              "    <div class=\"colab-df-container\">\n",
              "      <div>\n",
              "<style scoped>\n",
              "    .dataframe tbody tr th:only-of-type {\n",
              "        vertical-align: middle;\n",
              "    }\n",
              "\n",
              "    .dataframe tbody tr th {\n",
              "        vertical-align: top;\n",
              "    }\n",
              "\n",
              "    .dataframe thead th {\n",
              "        text-align: right;\n",
              "    }\n",
              "</style>\n",
              "<table border=\"1\" class=\"dataframe\">\n",
              "  <thead>\n",
              "    <tr style=\"text-align: right;\">\n",
              "      <th></th>\n",
              "      <th>year</th>\n",
              "      <th>genre</th>\n",
              "      <th>count</th>\n",
              "    </tr>\n",
              "  </thead>\n",
              "  <tbody>\n",
              "    <tr>\n",
              "      <th>0</th>\n",
              "      <td>2010</td>\n",
              "      <td>SF</td>\n",
              "      <td>1</td>\n",
              "    </tr>\n",
              "    <tr>\n",
              "      <th>1</th>\n",
              "      <td>2010</td>\n",
              "      <td>공포</td>\n",
              "      <td>9</td>\n",
              "    </tr>\n",
              "    <tr>\n",
              "      <th>2</th>\n",
              "      <td>2010</td>\n",
              "      <td>느와르</td>\n",
              "      <td>5</td>\n",
              "    </tr>\n",
              "    <tr>\n",
              "      <th>3</th>\n",
              "      <td>2010</td>\n",
              "      <td>다큐멘터리</td>\n",
              "      <td>14</td>\n",
              "    </tr>\n",
              "    <tr>\n",
              "      <th>4</th>\n",
              "      <td>2010</td>\n",
              "      <td>드라마</td>\n",
              "      <td>36</td>\n",
              "    </tr>\n",
              "    <tr>\n",
              "      <th>...</th>\n",
              "      <td>...</td>\n",
              "      <td>...</td>\n",
              "      <td>...</td>\n",
              "    </tr>\n",
              "    <tr>\n",
              "      <th>59</th>\n",
              "      <td>2015</td>\n",
              "      <td>뮤지컬</td>\n",
              "      <td>1</td>\n",
              "    </tr>\n",
              "    <tr>\n",
              "      <th>60</th>\n",
              "      <td>2015</td>\n",
              "      <td>미스터리</td>\n",
              "      <td>4</td>\n",
              "    </tr>\n",
              "    <tr>\n",
              "      <th>61</th>\n",
              "      <td>2015</td>\n",
              "      <td>애니메이션</td>\n",
              "      <td>5</td>\n",
              "    </tr>\n",
              "    <tr>\n",
              "      <th>62</th>\n",
              "      <td>2015</td>\n",
              "      <td>액션</td>\n",
              "      <td>7</td>\n",
              "    </tr>\n",
              "    <tr>\n",
              "      <th>63</th>\n",
              "      <td>2015</td>\n",
              "      <td>코미디</td>\n",
              "      <td>9</td>\n",
              "    </tr>\n",
              "  </tbody>\n",
              "</table>\n",
              "<p>64 rows × 3 columns</p>\n",
              "</div>\n",
              "      <button class=\"colab-df-convert\" onclick=\"convertToInteractive('df-c2c6f6d8-7a48-45e5-a5ed-534f3fb8f2f6')\"\n",
              "              title=\"Convert this dataframe to an interactive table.\"\n",
              "              style=\"display:none;\">\n",
              "        \n",
              "  <svg xmlns=\"http://www.w3.org/2000/svg\" height=\"24px\"viewBox=\"0 0 24 24\"\n",
              "       width=\"24px\">\n",
              "    <path d=\"M0 0h24v24H0V0z\" fill=\"none\"/>\n",
              "    <path d=\"M18.56 5.44l.94 2.06.94-2.06 2.06-.94-2.06-.94-.94-2.06-.94 2.06-2.06.94zm-11 1L8.5 8.5l.94-2.06 2.06-.94-2.06-.94L8.5 2.5l-.94 2.06-2.06.94zm10 10l.94 2.06.94-2.06 2.06-.94-2.06-.94-.94-2.06-.94 2.06-2.06.94z\"/><path d=\"M17.41 7.96l-1.37-1.37c-.4-.4-.92-.59-1.43-.59-.52 0-1.04.2-1.43.59L10.3 9.45l-7.72 7.72c-.78.78-.78 2.05 0 2.83L4 21.41c.39.39.9.59 1.41.59.51 0 1.02-.2 1.41-.59l7.78-7.78 2.81-2.81c.8-.78.8-2.07 0-2.86zM5.41 20L4 18.59l7.72-7.72 1.47 1.35L5.41 20z\"/>\n",
              "  </svg>\n",
              "      </button>\n",
              "      \n",
              "  <style>\n",
              "    .colab-df-container {\n",
              "      display:flex;\n",
              "      flex-wrap:wrap;\n",
              "      gap: 12px;\n",
              "    }\n",
              "\n",
              "    .colab-df-convert {\n",
              "      background-color: #E8F0FE;\n",
              "      border: none;\n",
              "      border-radius: 50%;\n",
              "      cursor: pointer;\n",
              "      display: none;\n",
              "      fill: #1967D2;\n",
              "      height: 32px;\n",
              "      padding: 0 0 0 0;\n",
              "      width: 32px;\n",
              "    }\n",
              "\n",
              "    .colab-df-convert:hover {\n",
              "      background-color: #E2EBFA;\n",
              "      box-shadow: 0px 1px 2px rgba(60, 64, 67, 0.3), 0px 1px 3px 1px rgba(60, 64, 67, 0.15);\n",
              "      fill: #174EA6;\n",
              "    }\n",
              "\n",
              "    [theme=dark] .colab-df-convert {\n",
              "      background-color: #3B4455;\n",
              "      fill: #D2E3FC;\n",
              "    }\n",
              "\n",
              "    [theme=dark] .colab-df-convert:hover {\n",
              "      background-color: #434B5C;\n",
              "      box-shadow: 0px 1px 3px 1px rgba(0, 0, 0, 0.15);\n",
              "      filter: drop-shadow(0px 1px 2px rgba(0, 0, 0, 0.3));\n",
              "      fill: #FFFFFF;\n",
              "    }\n",
              "  </style>\n",
              "\n",
              "      <script>\n",
              "        const buttonEl =\n",
              "          document.querySelector('#df-c2c6f6d8-7a48-45e5-a5ed-534f3fb8f2f6 button.colab-df-convert');\n",
              "        buttonEl.style.display =\n",
              "          google.colab.kernel.accessAllowed ? 'block' : 'none';\n",
              "\n",
              "        async function convertToInteractive(key) {\n",
              "          const element = document.querySelector('#df-c2c6f6d8-7a48-45e5-a5ed-534f3fb8f2f6');\n",
              "          const dataTable =\n",
              "            await google.colab.kernel.invokeFunction('convertToInteractive',\n",
              "                                                     [key], {});\n",
              "          if (!dataTable) return;\n",
              "\n",
              "          const docLinkHtml = 'Like what you see? Visit the ' +\n",
              "            '<a target=\"_blank\" href=https://colab.research.google.com/notebooks/data_table.ipynb>data table notebook</a>'\n",
              "            + ' to learn more about interactive tables.';\n",
              "          element.innerHTML = '';\n",
              "          dataTable['output_type'] = 'display_data';\n",
              "          await google.colab.output.renderOutput(dataTable, element);\n",
              "          const docLink = document.createElement('div');\n",
              "          docLink.innerHTML = docLinkHtml;\n",
              "          element.appendChild(docLink);\n",
              "        }\n",
              "      </script>\n",
              "    </div>\n",
              "  </div>\n",
              "  "
            ]
          },
          "metadata": {},
          "execution_count": 18
        }
      ]
    },
    {
      "cell_type": "code",
      "source": [
        "# FacetGrid로 연도 별로 나누어 barplot 구하기\n",
        "facet=sns.FacetGrid(year_genre,col='year',hue='genre')\n",
        "facet=facet.map(plt.bar,'genre','count')\n",
        "facet=facet.add_legend()\n",
        "plt.gca().set_xticks([])\n",
        "plt.xticks([])\n",
        "ax.set_xticks([]) # x축 눈금 제거\n",
        "plt.show()"
      ],
      "metadata": {
        "id": "AYY9O0CLevA5",
        "colab": {
          "base_uri": "https://localhost:8080/",
          "height": 189
        },
        "outputId": "09cc0ba9-e217-4d5a-d58a-224835eb8108"
      },
      "execution_count": null,
      "outputs": [
        {
          "output_type": "display_data",
          "data": {
            "text/plain": [
              "<Figure size 1382.62x216 with 6 Axes>"
            ],
            "image/png": "[encoded data removed]"
          },
          "metadata": {
            "needs_background": "light"
          }
        }
      ]
    },
    {
      "cell_type": "code",
      "source": [
        "# 한 그림에 모든 연도 표현하기\n",
        "sns.barplot(x='year',y='count',hue='genre',data=year_genre)\n",
        "plt.legend(loc = 'upper right')\n",
        "plt.title('Barplot of number of movies released by genre by year')\n",
        "plt.ylabel('number of movies released')\n",
        "plt.show()"
      ],
      "metadata": {
        "id": "6mwgMNrze15-",
        "colab": {
          "base_uri": "https://localhost:8080/",
          "height": 292
        },
        "outputId": "e983c327-195e-4c6e-bef5-5d7406333302"
      },
      "execution_count": null,
      "outputs": [
        {
          "output_type": "display_data",
          "data": {
            "text/plain": [
              "<Figure size 432x288 with 1 Axes>"
            ],
            "image/png": "[encoded data removed]"
          },
          "metadata": {
            "needs_background": "light"
          }
        }
      ]
    },
    {
      "cell_type": "markdown",
      "source": [
        "# 6. genre - box_off_num의 관계\n",
        ":관객수가 가장 많은 영화 장르 Top5를 뽑아 관객들의 장르 별 선호도를 파악해보기\n",
        "\n",
        "- 드라마, 코미디, 액션, 느와르, 멜로/로맨스 순으로 관객수가 많음을 알 수 있다.\n",
        "\n",
        "- 드라마 장르가 관객수가 다음으로 많은 코미디 장르보다 2배 이상 많을 정도로 다른 장르에 비해 압도적으로 관객수가 많음을 알 수 있다."
      ],
      "metadata": {
        "id": "gN9fm9jAe8iN"
      }
    },
    {
      "cell_type": "code",
      "source": [
        "top5=train[['genre','box_off_num']].groupby(['genre']).sum('box_off_num').sort_values(['box_off_num'],ascending=False).head(5)\n",
        "top5.reset_index(inplace=True)\n",
        "top5"
      ],
      "metadata": {
        "id": "m1kxRaxle_Ze",
        "colab": {
          "base_uri": "https://localhost:8080/",
          "height": 206
        },
        "outputId": "4243e04b-ad82-4477-c91b-58362dfcf0bc"
      },
      "execution_count": null,
      "outputs": [
        {
          "output_type": "execute_result",
          "data": {
            "text/plain": [
              "    genre  box_off_num\n",
              "0     드라마    138277444\n",
              "1     코미디     63277442\n",
              "2      액션     61711274\n",
              "3     느와르     61119768\n",
              "4  멜로/로맨스     33225507"
            ],
            "text/html": [
              "\n",
              "  <div id=\"df-6d1642f5-ab04-423d-8336-f6313f57fc0a\">\n",
              "    <div class=\"colab-df-container\">\n",
              "      <div>\n",
              "<style scoped>\n",
              "    .dataframe tbody tr th:only-of-type {\n",
              "        vertical-align: middle;\n",
              "    }\n",
              "\n",
              "    .dataframe tbody tr th {\n",
              "        vertical-align: top;\n",
              "    }\n",
              "\n",
              "    .dataframe thead th {\n",
              "        text-align: right;\n",
              "    }\n",
              "</style>\n",
              "<table border=\"1\" class=\"dataframe\">\n",
              "  <thead>\n",
              "    <tr style=\"text-align: right;\">\n",
              "      <th></th>\n",
              "      <th>genre</th>\n",
              "      <th>box_off_num</th>\n",
              "    </tr>\n",
              "  </thead>\n",
              "  <tbody>\n",
              "    <tr>\n",
              "      <th>0</th>\n",
              "      <td>드라마</td>\n",
              "      <td>138277444</td>\n",
              "    </tr>\n",
              "    <tr>\n",
              "      <th>1</th>\n",
              "      <td>코미디</td>\n",
              "      <td>63277442</td>\n",
              "    </tr>\n",
              "    <tr>\n",
              "      <th>2</th>\n",
              "      <td>액션</td>\n",
              "      <td>61711274</td>\n",
              "    </tr>\n",
              "    <tr>\n",
              "      <th>3</th>\n",
              "      <td>느와르</td>\n",
              "      <td>61119768</td>\n",
              "    </tr>\n",
              "    <tr>\n",
              "      <th>4</th>\n",
              "      <td>멜로/로맨스</td>\n",
              "      <td>33225507</td>\n",
              "    </tr>\n",
              "  </tbody>\n",
              "</table>\n",
              "</div>\n",
              "      <button class=\"colab-df-convert\" onclick=\"convertToInteractive('df-6d1642f5-ab04-423d-8336-f6313f57fc0a')\"\n",
              "              title=\"Convert this dataframe to an interactive table.\"\n",
              "              style=\"display:none;\">\n",
              "        \n",
              "  <svg xmlns=\"http://www.w3.org/2000/svg\" height=\"24px\"viewBox=\"0 0 24 24\"\n",
              "       width=\"24px\">\n",
              "    <path d=\"M0 0h24v24H0V0z\" fill=\"none\"/>\n",
              "    <path d=\"M18.56 5.44l.94 2.06.94-2.06 2.06-.94-2.06-.94-.94-2.06-.94 2.06-2.06.94zm-11 1L8.5 8.5l.94-2.06 2.06-.94-2.06-.94L8.5 2.5l-.94 2.06-2.06.94zm10 10l.94 2.06.94-2.06 2.06-.94-2.06-.94-.94-2.06-.94 2.06-2.06.94z\"/><path d=\"M17.41 7.96l-1.37-1.37c-.4-.4-.92-.59-1.43-.59-.52 0-1.04.2-1.43.59L10.3 9.45l-7.72 7.72c-.78.78-.78 2.05 0 2.83L4 21.41c.39.39.9.59 1.41.59.51 0 1.02-.2 1.41-.59l7.78-7.78 2.81-2.81c.8-.78.8-2.07 0-2.86zM5.41 20L4 18.59l7.72-7.72 1.47 1.35L5.41 20z\"/>\n",
              "  </svg>\n",
              "      </button>\n",
              "      \n",
              "  <style>\n",
              "    .colab-df-container {\n",
              "      display:flex;\n",
              "      flex-wrap:wrap;\n",
              "      gap: 12px;\n",
              "    }\n",
              "\n",
              "    .colab-df-convert {\n",
              "      background-color: #E8F0FE;\n",
              "      border: none;\n",
              "      border-radius: 50%;\n",
              "      cursor: pointer;\n",
              "      display: none;\n",
              "      fill: #1967D2;\n",
              "      height: 32px;\n",
              "      padding: 0 0 0 0;\n",
              "      width: 32px;\n",
              "    }\n",
              "\n",
              "    .colab-df-convert:hover {\n",
              "      background-color: #E2EBFA;\n",
              "      box-shadow: 0px 1px 2px rgba(60, 64, 67, 0.3), 0px 1px 3px 1px rgba(60, 64, 67, 0.15);\n",
              "      fill: #174EA6;\n",
              "    }\n",
              "\n",
              "    [theme=dark] .colab-df-convert {\n",
              "      background-color: #3B4455;\n",
              "      fill: #D2E3FC;\n",
              "    }\n",
              "\n",
              "    [theme=dark] .colab-df-convert:hover {\n",
              "      background-color: #434B5C;\n",
              "      box-shadow: 0px 1px 3px 1px rgba(0, 0, 0, 0.15);\n",
              "      filter: drop-shadow(0px 1px 2px rgba(0, 0, 0, 0.3));\n",
              "      fill: #FFFFFF;\n",
              "    }\n",
              "  </style>\n",
              "\n",
              "      <script>\n",
              "        const buttonEl =\n",
              "          document.querySelector('#df-6d1642f5-ab04-423d-8336-f6313f57fc0a button.colab-df-convert');\n",
              "        buttonEl.style.display =\n",
              "          google.colab.kernel.accessAllowed ? 'block' : 'none';\n",
              "\n",
              "        async function convertToInteractive(key) {\n",
              "          const element = document.querySelector('#df-6d1642f5-ab04-423d-8336-f6313f57fc0a');\n",
              "          const dataTable =\n",
              "            await google.colab.kernel.invokeFunction('convertToInteractive',\n",
              "                                                     [key], {});\n",
              "          if (!dataTable) return;\n",
              "\n",
              "          const docLinkHtml = 'Like what you see? Visit the ' +\n",
              "            '<a target=\"_blank\" href=https://colab.research.google.com/notebooks/data_table.ipynb>data table notebook</a>'\n",
              "            + ' to learn more about interactive tables.';\n",
              "          element.innerHTML = '';\n",
              "          dataTable['output_type'] = 'display_data';\n",
              "          await google.colab.output.renderOutput(dataTable, element);\n",
              "          const docLink = document.createElement('div');\n",
              "          docLink.innerHTML = docLinkHtml;\n",
              "          element.appendChild(docLink);\n",
              "        }\n",
              "      </script>\n",
              "    </div>\n",
              "  </div>\n",
              "  "
            ]
          },
          "metadata": {},
          "execution_count": 21
        }
      ]
    },
    {
      "cell_type": "code",
      "source": [
        "plt.rcParams['font.family'] = 'NanumGothic'\n",
        "plt.xticks(rotation = 45)\n",
        "ax=sns.barplot(x='genre',y='box_off_num',data=top5)\n",
        "ax.set_title('Barplot of box_off_num by Top 5 genre', fontsize=15)\n",
        "ax.set_xlabel('genre',fontsize=15)\n",
        "ax.set_ylabel('box_off_num',fontsize=15)\n",
        "plt.show()"
      ],
      "metadata": {
        "id": "2v_mx8QofBGr",
        "colab": {
          "base_uri": "https://localhost:8080/",
          "height": 335
        },
        "outputId": "3d09d384-38f8-49b7-e1f3-933281cc9c7e"
      },
      "execution_count": null,
      "outputs": [
        {
          "output_type": "display_data",
          "data": {
            "text/plain": [
              "<Figure size 432x288 with 1 Axes>"
            ],
            "image/png": "[encoded data removed]"
          },
          "metadata": {
            "needs_background": "light"
          }
        }
      ]
    },
    {
      "cell_type": "markdown",
      "source": [
        "# 7. genre - year - box_off_num 관계\n",
        "\n",
        ":연도 별로 장르 별 관객수를 파악하여 관객들이 특정 장르의 영화를 얼마나 많이 관람했는지 파악해보기\n",
        "\n",
        "- 드라마 장르의 영화는 12,13,14년도에 관객수가 많음을 알 수 있다.\n",
        "\n",
        "- 느와르 장르의 영화는 12,15년도에 관객수가 많음을 알 수 있다.\n",
        "\n",
        "- 미스터리 장르의 영화는 12,15년도에 관객수가 많음을 알 수 있다.\n",
        "\n",
        "- SF 장르의 영화는 13,14년도에 관객수가 많음을 알 수 있다.\n",
        "\n",
        "- 애니메이션 장르의 영화는 11년도에 관객수가 많음을 알 수 있다."
      ],
      "metadata": {
        "id": "nEFOXOUEfEY5"
      }
    },
    {
      "cell_type": "code",
      "source": [
        "year_genre_box=train[['year','genre','box_off_num']].groupby(['year','genre']).sum() # 연도 별 장르 별 총 관객 수\n",
        "year_genre_box.reset_index(inplace=True)\n",
        "year_genre_box"
      ],
      "metadata": {
        "id": "KjSccA5IfGL1",
        "colab": {
          "base_uri": "https://localhost:8080/",
          "height": 423
        },
        "outputId": "76e1a3ff-3fc9-40a8-fc6b-d9000f74cc8e"
      },
      "execution_count": null,
      "outputs": [
        {
          "output_type": "execute_result",
          "data": {
            "text/plain": [
              "    year  genre  box_off_num\n",
              "0   2010     SF      2130645\n",
              "1   2010     공포      5720366\n",
              "2   2010    느와르      8175580\n",
              "3   2010  다큐멘터리       660481\n",
              "4   2010    드라마     10079903\n",
              "..   ...    ...          ...\n",
              "59  2015    뮤지컬          862\n",
              "60  2015   미스터리      5801847\n",
              "61  2015  애니메이션       807764\n",
              "62  2015     액션     17882814\n",
              "63  2015    코미디      8971922\n",
              "\n",
              "[64 rows x 3 columns]"
            ],
            "text/html": [
              "\n",
              "  <div id=\"df-0c6bf57c-128c-4dfa-a3c2-60c2b41ecef2\">\n",
              "    <div class=\"colab-df-container\">\n",
              "      <div>\n",
              "<style scoped>\n",
              "    .dataframe tbody tr th:only-of-type {\n",
              "        vertical-align: middle;\n",
              "    }\n",
              "\n",
              "    .dataframe tbody tr th {\n",
              "        vertical-align: top;\n",
              "    }\n",
              "\n",
              "    .dataframe thead th {\n",
              "        text-align: right;\n",
              "    }\n",
              "</style>\n",
              "<table border=\"1\" class=\"dataframe\">\n",
              "  <thead>\n",
              "    <tr style=\"text-align: right;\">\n",
              "      <th></th>\n",
              "      <th>year</th>\n",
              "      <th>genre</th>\n",
              "      <th>box_off_num</th>\n",
              "    </tr>\n",
              "  </thead>\n",
              "  <tbody>\n",
              "    <tr>\n",
              "      <th>0</th>\n",
              "      <td>2010</td>\n",
              "      <td>SF</td>\n",
              "      <td>2130645</td>\n",
              "    </tr>\n",
              "    <tr>\n",
              "      <th>1</th>\n",
              "      <td>2010</td>\n",
              "      <td>공포</td>\n",
              "      <td>5720366</td>\n",
              "    </tr>\n",
              "    <tr>\n",
              "      <th>2</th>\n",
              "      <td>2010</td>\n",
              "      <td>느와르</td>\n",
              "      <td>8175580</td>\n",
              "    </tr>\n",
              "    <tr>\n",
              "      <th>3</th>\n",
              "      <td>2010</td>\n",
              "      <td>다큐멘터리</td>\n",
              "      <td>660481</td>\n",
              "    </tr>\n",
              "    <tr>\n",
              "      <th>4</th>\n",
              "      <td>2010</td>\n",
              "      <td>드라마</td>\n",
              "      <td>10079903</td>\n",
              "    </tr>\n",
              "    <tr>\n",
              "      <th>...</th>\n",
              "      <td>...</td>\n",
              "      <td>...</td>\n",
              "      <td>...</td>\n",
              "    </tr>\n",
              "    <tr>\n",
              "      <th>59</th>\n",
              "      <td>2015</td>\n",
              "      <td>뮤지컬</td>\n",
              "      <td>862</td>\n",
              "    </tr>\n",
              "    <tr>\n",
              "      <th>60</th>\n",
              "      <td>2015</td>\n",
              "      <td>미스터리</td>\n",
              "      <td>5801847</td>\n",
              "    </tr>\n",
              "    <tr>\n",
              "      <th>61</th>\n",
              "      <td>2015</td>\n",
              "      <td>애니메이션</td>\n",
              "      <td>807764</td>\n",
              "    </tr>\n",
              "    <tr>\n",
              "      <th>62</th>\n",
              "      <td>2015</td>\n",
              "      <td>액션</td>\n",
              "      <td>17882814</td>\n",
              "    </tr>\n",
              "    <tr>\n",
              "      <th>63</th>\n",
              "      <td>2015</td>\n",
              "      <td>코미디</td>\n",
              "      <td>8971922</td>\n",
              "    </tr>\n",
              "  </tbody>\n",
              "</table>\n",
              "<p>64 rows × 3 columns</p>\n",
              "</div>\n",
              "      <button class=\"colab-df-convert\" onclick=\"convertToInteractive('df-0c6bf57c-128c-4dfa-a3c2-60c2b41ecef2')\"\n",
              "              title=\"Convert this dataframe to an interactive table.\"\n",
              "              style=\"display:none;\">\n",
              "        \n",
              "  <svg xmlns=\"http://www.w3.org/2000/svg\" height=\"24px\"viewBox=\"0 0 24 24\"\n",
              "       width=\"24px\">\n",
              "    <path d=\"M0 0h24v24H0V0z\" fill=\"none\"/>\n",
              "    <path d=\"M18.56 5.44l.94 2.06.94-2.06 2.06-.94-2.06-.94-.94-2.06-.94 2.06-2.06.94zm-11 1L8.5 8.5l.94-2.06 2.06-.94-2.06-.94L8.5 2.5l-.94 2.06-2.06.94zm10 10l.94 2.06.94-2.06 2.06-.94-2.06-.94-.94-2.06-.94 2.06-2.06.94z\"/><path d=\"M17.41 7.96l-1.37-1.37c-.4-.4-.92-.59-1.43-.59-.52 0-1.04.2-1.43.59L10.3 9.45l-7.72 7.72c-.78.78-.78 2.05 0 2.83L4 21.41c.39.39.9.59 1.41.59.51 0 1.02-.2 1.41-.59l7.78-7.78 2.81-2.81c.8-.78.8-2.07 0-2.86zM5.41 20L4 18.59l7.72-7.72 1.47 1.35L5.41 20z\"/>\n",
              "  </svg>\n",
              "      </button>\n",
              "      \n",
              "  <style>\n",
              "    .colab-df-container {\n",
              "      display:flex;\n",
              "      flex-wrap:wrap;\n",
              "      gap: 12px;\n",
              "    }\n",
              "\n",
              "    .colab-df-convert {\n",
              "      background-color: #E8F0FE;\n",
              "      border: none;\n",
              "      border-radius: 50%;\n",
              "      cursor: pointer;\n",
              "      display: none;\n",
              "      fill: #1967D2;\n",
              "      height: 32px;\n",
              "      padding: 0 0 0 0;\n",
              "      width: 32px;\n",
              "    }\n",
              "\n",
              "    .colab-df-convert:hover {\n",
              "      background-color: #E2EBFA;\n",
              "      box-shadow: 0px 1px 2px rgba(60, 64, 67, 0.3), 0px 1px 3px 1px rgba(60, 64, 67, 0.15);\n",
              "      fill: #174EA6;\n",
              "    }\n",
              "\n",
              "    [theme=dark] .colab-df-convert {\n",
              "      background-color: #3B4455;\n",
              "      fill: #D2E3FC;\n",
              "    }\n",
              "\n",
              "    [theme=dark] .colab-df-convert:hover {\n",
              "      background-color: #434B5C;\n",
              "      box-shadow: 0px 1px 3px 1px rgba(0, 0, 0, 0.15);\n",
              "      filter: drop-shadow(0px 1px 2px rgba(0, 0, 0, 0.3));\n",
              "      fill: #FFFFFF;\n",
              "    }\n",
              "  </style>\n",
              "\n",
              "      <script>\n",
              "        const buttonEl =\n",
              "          document.querySelector('#df-0c6bf57c-128c-4dfa-a3c2-60c2b41ecef2 button.colab-df-convert');\n",
              "        buttonEl.style.display =\n",
              "          google.colab.kernel.accessAllowed ? 'block' : 'none';\n",
              "\n",
              "        async function convertToInteractive(key) {\n",
              "          const element = document.querySelector('#df-0c6bf57c-128c-4dfa-a3c2-60c2b41ecef2');\n",
              "          const dataTable =\n",
              "            await google.colab.kernel.invokeFunction('convertToInteractive',\n",
              "                                                     [key], {});\n",
              "          if (!dataTable) return;\n",
              "\n",
              "          const docLinkHtml = 'Like what you see? Visit the ' +\n",
              "            '<a target=\"_blank\" href=https://colab.research.google.com/notebooks/data_table.ipynb>data table notebook</a>'\n",
              "            + ' to learn more about interactive tables.';\n",
              "          element.innerHTML = '';\n",
              "          dataTable['output_type'] = 'display_data';\n",
              "          await google.colab.output.renderOutput(dataTable, element);\n",
              "          const docLink = document.createElement('div');\n",
              "          docLink.innerHTML = docLinkHtml;\n",
              "          element.appendChild(docLink);\n",
              "        }\n",
              "      </script>\n",
              "    </div>\n",
              "  </div>\n",
              "  "
            ]
          },
          "metadata": {},
          "execution_count": 23
        }
      ]
    },
    {
      "cell_type": "code",
      "source": [
        "# FacetGrid로 연도 별로 나누어 barplot 구하기\n",
        "facet=sns.FacetGrid(year_genre_box,col='year',hue='genre')\n",
        "facet=facet.map(plt.bar,'genre','box_off_num')\n",
        "facet=facet.add_legend()\n",
        "plt.gca().set_xticks([])\n",
        "plt.xticks([])\n",
        "ax.set_xticks([]) # x축 눈금 제거\n",
        "plt.show()"
      ],
      "metadata": {
        "id": "3mHps1pxfINF",
        "colab": {
          "base_uri": "https://localhost:8080/",
          "height": 191
        },
        "outputId": "88cd88cd-fd9a-4616-cb42-166f05ba9621"
      },
      "execution_count": null,
      "outputs": [
        {
          "output_type": "display_data",
          "data": {
            "text/plain": [
              "<Figure size 1382.62x216 with 6 Axes>"
            ],
            "image/png": "[encoded data removed]"
          },
          "metadata": {
            "needs_background": "light"
          }
        }
      ]
    },
    {
      "cell_type": "code",
      "source": [
        "# 한 그림에 모든 연도 표현하기\n",
        "sns.barplot(x='year',y='box_off_num',hue='genre',data=year_genre_box)\n",
        "plt.legend(loc = 'upper right')\n",
        "plt.title('Barplot of box_off_num by genre by year')\n",
        "plt.show()"
      ],
      "metadata": {
        "id": "W3Cl9ROkfMVP",
        "colab": {
          "base_uri": "https://localhost:8080/",
          "height": 292
        },
        "outputId": "c8bbdcfd-4cd1-4bcd-cd6f-bf7135bd836b"
      },
      "execution_count": null,
      "outputs": [
        {
          "output_type": "display_data",
          "data": {
            "text/plain": [
              "<Figure size 432x288 with 1 Axes>"
            ],
            "image/png": "[encoded data removed]"
          },
          "metadata": {
            "needs_background": "light"
          }
        }
      ]
    },
    {
      "cell_type": "markdown",
      "source": [
        "# 8. genre - time 관계\n",
        "\n",
        ": 장르 별 평균 영화 상영시간의 차이 파악하기\n",
        "\n",
        "* 느와르 장르의 **평균 영화 상영시간**이 약 115분으로 가장 긴 것을 알 수 있다.\n",
        "* 애니메이션 장르의 **평균 영화 상영시간**이 약 83분으로 가장 짧음을 알 수 있다."
      ],
      "metadata": {
        "id": "1ib2asyxwPEt"
      }
    },
    {
      "cell_type": "code",
      "source": [
        "#장르별 영화 상영시간의 평균\n",
        "train_time = train.groupby('genre').mean()['time']\n",
        "print(train_time)"
      ],
      "metadata": {
        "id": "VQmPDFjawTaz",
        "colab": {
          "base_uri": "https://localhost:8080/"
        },
        "outputId": "a75cc7cd-f57f-4069-96d6-194b08bb2632"
      },
      "execution_count": null,
      "outputs": [
        {
          "output_type": "stream",
          "name": "stdout",
          "text": [
            "genre\n",
            "SF        101.384615\n",
            "공포        100.214286\n",
            "느와르       115.370370\n",
            "다큐멘터리      88.053763\n",
            "드라마       104.651584\n",
            "멜로/로맨스     96.641026\n",
            "뮤지컬       107.000000\n",
            "미스터리      102.588235\n",
            "서스펜스      112.000000\n",
            "애니메이션      82.571429\n",
            "액션        114.464286\n",
            "코미디       105.264151\n",
            "Name: time, dtype: float64\n"
          ]
        }
      ]
    },
    {
      "cell_type": "code",
      "source": [
        "#genre와 time 간의 관계를 barplot으로 시각화\n",
        "ax = plt.subplots()\n",
        "ax = sns.barplot(x = 'genre',y = 'time',data=train)\n",
        "ax.set_title('Bar plot of average time for genre')\n",
        "ax.set_xlabel('Genre')\n",
        "ax.set_ylabel('time')\n",
        "plt.xticks(fontsize=10,rotation=90)\n",
        "plt.show()"
      ],
      "metadata": {
        "id": "lL9y7PdVwXxu",
        "colab": {
          "base_uri": "https://localhost:8080/",
          "height": 334
        },
        "outputId": "85cfb2f3-e47f-4a20-bada-95451b43bd3b"
      },
      "execution_count": null,
      "outputs": [
        {
          "output_type": "display_data",
          "data": {
            "text/plain": [
              "<Figure size 432x288 with 1 Axes>"
            ],
            "image/png": "[encoded data removed]"
          },
          "metadata": {
            "needs_background": "light"
          }
        }
      ]
    },
    {
      "cell_type": "markdown",
      "source": [
        "# 9. genre - distributor 관계\n",
        "\n",
        ": 특정 장르를 많이 만드는 배급사 파악\n",
        "\n",
        "* 롯데엔터테인먼트와 CJ 엔터테인먼트가 제작에 가장 많이 참여했음을 알 수 있다.\n",
        "* 대부분의 배급사에서 드라마 장르를 가장 많이 제작했음을 알 수 있다.\n"
      ],
      "metadata": {
        "id": "jfV0QzRyw1Gu"
      }
    },
    {
      "cell_type": "code",
      "source": [
        "#top5 배급사\n",
        "train['distributor'].value_counts().sort_values(ascending=False)[:5]"
      ],
      "metadata": {
        "id": "vlWl_pz6y1XY"
      },
      "execution_count": null,
      "outputs": []
    },
    {
      "cell_type": "code",
      "source": [
        "#top5 배급사의 자료만 뽑아내기\n",
        "dist_list = ['CJ 엔터테인먼트','롯데엔터테인먼트','(주)NEW','(주)마운틴픽쳐스','(주)쇼박스']\n",
        "train_top5 = train[train['distributor'].isin(dist_list)]\n",
        "\n",
        "print(train_top5)"
      ],
      "metadata": {
        "colab": {
          "base_uri": "https://localhost:8080/"
        },
        "id": "H21ZiB_3KOEr",
        "outputId": "5a7639c4-70e3-421c-a9dc-0b00e5b2dae8"
      },
      "execution_count": null,
      "outputs": [
        {
          "output_type": "stream",
          "name": "stdout",
          "text": [
            "              title distributor genre release_time  time screening_rat  \\\n",
            "0            개들의 전쟁    롯데엔터테인먼트    액션   2012-11-22    96      청소년 관람불가   \n",
            "1              내부자들      (주)쇼박스   느와르   2015-11-19   130      청소년 관람불가   \n",
            "2         은밀하게 위대하게      (주)쇼박스    액션   2013-06-05   123       15세 관람가   \n",
            "3          나는 공무원이다      (주)NEW   코미디   2012-07-12   101        전체 관람가   \n",
            "5    강철대오 : 구국의 철가방    롯데엔터테인먼트   코미디   2012-10-25   113       15세 관람가   \n",
            "..              ...         ...   ...          ...   ...           ...   \n",
            "595              해무      (주)NEW   드라마   2014-08-13   111      청소년 관람불가   \n",
            "596            파파로티      (주)쇼박스   드라마   2013-03-14   127       15세 관람가   \n",
            "597           살인의 강   (주)마운틴픽쳐스    공포   2010-09-30    99      청소년 관람불가   \n",
            "598          악의 연대기   CJ 엔터테인먼트   느와르   2015-05-14   102       15세 관람가   \n",
            "599             베를린   CJ 엔터테인먼트    액션   2013-01-30   120       15세 관람가   \n",
            "\n",
            "    director  dir_prev_bfnum  dir_prev_num  num_staff  num_actor  box_off_num  \\\n",
            "0        조병옥             NaN             0         91          2        23398   \n",
            "1        우민호      1161602.50             2        387          3      7072501   \n",
            "2        장철수       220775.25             4        343          4      6959083   \n",
            "3        구자홍        23894.00             2         20          6       217866   \n",
            "5        육상효       837969.00             2        262          4       233211   \n",
            "..       ...             ...           ...        ...        ...          ...   \n",
            "595      심성보         3833.00             1        510          7      1475091   \n",
            "596      윤종찬       496061.00             1        286          6      1716438   \n",
            "597      김대현             NaN             0        123          4         2475   \n",
            "598      백운학             NaN             0        431          4      2192525   \n",
            "599      류승완             NaN             0        363          5      7166532   \n",
            "\n",
            "     month  year  top_5  sum_of_distributor  \n",
            "0       11  2012      1                   1  \n",
            "1       11  2015      1                   1  \n",
            "2        6  2013      1                   2  \n",
            "3        7  2012      1                   1  \n",
            "5       10  2012      1                   2  \n",
            "..     ...   ...    ...                 ...  \n",
            "595      8  2014      1                  68  \n",
            "596      3  2013      1                  69  \n",
            "597      9  2010      1                  15  \n",
            "598      5  2015      1                  17  \n",
            "599      1  2013      1                  16  \n",
            "\n",
            "[191 rows x 16 columns]\n"
          ]
        }
      ]
    },
    {
      "cell_type": "code",
      "source": [
        "#distributor 별 장르의 수 시각화\n",
        "ax = plt.subplots()\n",
        "ax = sns.countplot('distributor',data=train_top5,hue='genre')"
      ],
      "metadata": {
        "colab": {
          "base_uri": "https://localhost:8080/",
          "height": 335
        },
        "id": "0pOvNKq0J03o",
        "outputId": "93b04342-0807-4f26-cd88-1c2f4d48e7e9"
      },
      "execution_count": null,
      "outputs": [
        {
          "output_type": "stream",
          "name": "stderr",
          "text": [
            "/usr/local/lib/python3.7/dist-packages/seaborn/_decorators.py:43: FutureWarning: Pass the following variable as a keyword arg: x. From version 0.12, the only valid positional argument will be `data`, and passing other arguments without an explicit keyword will result in an error or misinterpretation.\n",
            "  FutureWarning\n"
          ]
        },
        {
          "output_type": "display_data",
          "data": {
            "text/plain": [
              "<Figure size 432x288 with 1 Axes>"
            ],
            "image/png": "[encoded data removed]"
          },
          "metadata": {
            "needs_background": "light"
          }
        }
      ]
    },
    {
      "cell_type": "markdown",
      "source": [
        "# 10. screening_rat - box_off_num 의 관계 \n",
        ": 어떤 상영등급에서 관객수가 많은지 파악해보기\n",
        "\n",
        "- 가장 보편적인 **15세 관람가**에서 가장 많은 관객수가 나타남을 알 수 있음\n",
        "- **전체 관람가**보다 **청소년 관람불가**에서 더 많은 관객수가 나타남\n",
        "- 관객수의 최댓값은 **12세 관람가**에서 가장 크게 나타남\n",
        "- 관객수의 최솟값은 **청소년 관람불가**에서 가장 낮게 나타남"
      ],
      "metadata": {
        "id": "k7DypM2OPJIH"
      }
    },
    {
      "cell_type": "code",
      "source": [
        "# 상영등급별 관객수 평균 구하기\n",
        "train_rat_mean = train.groupby('screening_rat').mean()['box_off_num']\n",
        "print(train_rat_mean)"
      ],
      "metadata": {
        "id": "c3c9bB49PHq4",
        "colab": {
          "base_uri": "https://localhost:8080/"
        },
        "outputId": "3d8d54e3-b8b6-494d-e720-4211e6d2bf4b"
      },
      "execution_count": null,
      "outputs": [
        {
          "output_type": "stream",
          "name": "stdout",
          "text": [
            "screening_rat\n",
            "12세 관람가     8.449809e+05\n",
            "15세 관람가     1.247519e+06\n",
            "전체 관람가      1.351005e+05\n",
            "청소년 관람불가    3.641813e+05\n",
            "Name: box_off_num, dtype: float64\n"
          ]
        }
      ]
    },
    {
      "cell_type": "code",
      "source": [
        "# 상영등급별 관객수 최댓값 구하기\n",
        "train_rat_max = train.groupby('screening_rat').max()['box_off_num']\n",
        "print(train_rat_max)"
      ],
      "metadata": {
        "id": "45yrjasrQxTB",
        "colab": {
          "base_uri": "https://localhost:8080/"
        },
        "outputId": "53b4ca4e-8e08-434b-ad07-e4e9f97b2da3"
      },
      "execution_count": null,
      "outputs": [
        {
          "output_type": "stream",
          "name": "stdout",
          "text": [
            "screening_rat\n",
            "12세 관람가     14262766\n",
            "15세 관람가     12983841\n",
            "전체 관람가       4802169\n",
            "청소년 관람불가     7072501\n",
            "Name: box_off_num, dtype: int64\n"
          ]
        }
      ]
    },
    {
      "cell_type": "code",
      "source": [
        "# 상영등급별 관객수 최솟값 구하기\n",
        "train_rat_min = train.groupby('screening_rat').min()['box_off_num']\n",
        "print(train_rat_min)"
      ],
      "metadata": {
        "id": "QnY9kVkOQvI1",
        "colab": {
          "base_uri": "https://localhost:8080/"
        },
        "outputId": "6296dcb2-4d1d-4b50-cbd4-ef4eabd2b7ab"
      },
      "execution_count": null,
      "outputs": [
        {
          "output_type": "stream",
          "name": "stdout",
          "text": [
            "screening_rat\n",
            "12세 관람가     90\n",
            "15세 관람가     36\n",
            "전체 관람가      65\n",
            "청소년 관람불가     1\n",
            "Name: box_off_num, dtype: int64\n"
          ]
        }
      ]
    },
    {
      "cell_type": "code",
      "source": [
        "# 상영등급과 관객수 scatter plot 구하기\n",
        "scatter_plot = plt.figure()\n",
        "axes1 = scatter_plot.add_subplot(1,1,1)\n",
        "axes1.scatter(train['screening_rat'],train['box_off_num'])\n",
        "axes1.set_title('Scatterplot of screening_rat vs box_off_num')\n",
        "axes1.set_xlabel('screening_rat')\n",
        "axes1.set_ylabel('box_off_num')"
      ],
      "metadata": {
        "id": "3JSGZHWGRZbv",
        "colab": {
          "base_uri": "https://localhost:8080/",
          "height": 312
        },
        "outputId": "e7b9de7d-054e-4eb1-ed8b-783c33cedac7"
      },
      "execution_count": null,
      "outputs": [
        {
          "output_type": "execute_result",
          "data": {
            "text/plain": [
              "Text(0, 0.5, 'box_off_num')"
            ]
          },
          "metadata": {},
          "execution_count": 92
        },
        {
          "output_type": "display_data",
          "data": {
            "text/plain": [
              "<Figure size 432x288 with 1 Axes>"
            ],
            "image/png": "[encoded data removed]"
          },
          "metadata": {
            "needs_background": "light"
          }
        }
      ]
    },
    {
      "cell_type": "markdown",
      "source": [
        "# 11. genre - screening_rat - box_off_num 의 관계 \n",
        ": 장르별로 상영등급과 관객수 관계 파악하기\n",
        "\n",
        "- 각 genre 별로 영화가 존재하지 않는 상영등급도 있음을 알 수 있음\n",
        "- 특히 서스펜스에서는 청소년 관람불가 외에 다른 장르가 데이터에 존재하지 않음\n",
        "- 액션, 느와르, 코미디, 드라마, 공포, 멜로/로맨스, SF는 15세 관람가가 가장 많이 나타남을 알 수 있음\n",
        "- 다큐멘터리와 미스터리, 애니메이션은 전체 관람가가 가장 많이 나타남을 알 수 있음"
      ],
      "metadata": {
        "id": "uV3FzlDORmsR"
      }
    },
    {
      "cell_type": "code",
      "source": [
        "# 장르별 상영등급 count\n",
        "train_rat_genre = train.groupby('genre')['screening_rat'].value_counts()\n",
        "print(train_rat_genre)"
      ],
      "metadata": {
        "id": "znVicGFmTWQv"
      },
      "execution_count": null,
      "outputs": []
    },
    {
      "cell_type": "code",
      "source": [
        "# 장르별 상영등급과 관객 수 scatterplot\n",
        "facet = sns.FacetGrid(train, col='genre', col_wrap=3)\n",
        "facet = facet.map(plt.scatter, 'screening_rat', 'box_off_num')\n",
        "facet = facet.add_legend()"
      ],
      "metadata": {
        "id": "tyzAZP7xRl05",
        "colab": {
          "base_uri": "https://localhost:8080/",
          "height": 873
        },
        "outputId": "876f1fc0-c472-449e-9566-90a4294ad932"
      },
      "execution_count": null,
      "outputs": [
        {
          "output_type": "display_data",
          "data": {
            "text/plain": [
              "<Figure size 656x864 with 12 Axes>"
            ],
            "image/png": "[encoded data removed]"
          },
          "metadata": {
            "needs_background": "light"
          }
        }
      ]
    }
  ]
}