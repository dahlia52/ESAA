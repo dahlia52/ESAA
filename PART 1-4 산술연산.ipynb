{
 "cells": [
  {
   "cell_type": "code",
   "execution_count": 2,
   "id": "eb62e30b",
   "metadata": {},
   "outputs": [
    {
     "name": "stdout",
     "output_type": "stream",
     "text": [
      "국어    0.50\n",
      "영어    0.40\n",
      "수학    0.45\n",
      "dtype: float64\n"
     ]
    }
   ],
   "source": [
    "import pandas as pd\n",
    "student1=pd.Series({'국어':100,'영어':80,'수학':90})\n",
    "percentage=student1/200\n",
    "print(percentage)"
   ]
  },
  {
   "cell_type": "code",
   "execution_count": 5,
   "id": "45a92ee7",
   "metadata": {},
   "outputs": [
    {
     "name": "stdout",
     "output_type": "stream",
     "text": [
      "            국어        수학      영어\n",
      "+   190.000000   170.000   160.0\n",
      "-    10.000000    10.000     0.0\n",
      "*  9000.000000  7200.000  6400.0\n",
      "/     1.111111     1.125     1.0\n"
     ]
    }
   ],
   "source": [
    "student1=pd.Series({'국어':100,'영어':80,'수학':90})\n",
    "student2=pd.Series({'수학':80,'국어':90,'영어':80}) #인덱스 순서가 다르더라도 같은 인덱스를 찾아 정렬한 후 연산\n",
    "addiction=student1 + student2\n",
    "substraction=student1-student2\n",
    "multiplication=student1*student2\n",
    "division=student1/student2\n",
    "result=pd.DataFrame([addiction,substraction,multiplication,division],index=['+','-','*','/'])\n",
    "print(result)"
   ]
  },
  {
   "cell_type": "code",
   "execution_count": 7,
   "id": "8099877f",
   "metadata": {},
   "outputs": [
    {
     "name": "stdout",
     "output_type": "stream",
     "text": [
      "   국어        수학  영어\n",
      "+ NaN   170.000 NaN\n",
      "- NaN    10.000 NaN\n",
      "* NaN  7200.000 NaN\n",
      "/ NaN     1.125 NaN\n"
     ]
    }
   ],
   "source": [
    "import pandas as pd\n",
    "import numpy as np\n",
    "student1=pd.Series({'국어':np.nan,'영어':80,'수학':90}) #국어에 NA 포함\n",
    "student2=pd.Series({'수학':80,'국어':90}) #영어 점수가 없음\n",
    "addiction=student1 + student2\n",
    "substraction=student1-student2\n",
    "multiplication=student1*student2\n",
    "division=student1/student2\n",
    "result=pd.DataFrame([addiction,substraction,multiplication,division],index=['+','-','*','/'])\n",
    "print(result)"
   ]
  },
  {
   "cell_type": "code",
   "execution_count": 10,
   "id": "929b0035",
   "metadata": {},
   "outputs": [
    {
     "name": "stdout",
     "output_type": "stream",
     "text": [
      "     국어        수학    영어\n",
      "+  90.0   170.000  80.0\n",
      "- -90.0    10.000  80.0\n",
      "*   0.0  7200.000   0.0\n",
      "/   0.0     1.125   inf\n"
     ]
    }
   ],
   "source": [
    "import pandas as pd\n",
    "import numpy as np\n",
    "student1=pd.Series({'국어':np.nan,'영어':80,'수학':90})\n",
    "student2=pd.Series({'수학':80,'국어':90})\n",
    "sr_add=student1.add(student2,fill_value=0) #NaN을 0으로 채움\n",
    "sr_sub=student1.sub(student2,fill_value=0)\n",
    "sr_mul=student1.mul(student2,fill_value=0)\n",
    "sr_div=student1.div(student2,fill_value=0)\n",
    "result=pd.DataFrame([sr_add,sr_sub,sr_mul,sr_div],index=['+','-','*','/'])\n",
    "print(result)"
   ]
  },
  {
   "cell_type": "code",
   "execution_count": 4,
   "id": "3f8bc366",
   "metadata": {},
   "outputs": [
    {
     "name": "stdout",
     "output_type": "stream",
     "text": [
      "    age     fare\n",
      "0  22.0   7.2500\n",
      "1  38.0  71.2833\n",
      "2  26.0   7.9250\n",
      "3  35.0  53.1000\n",
      "4  35.0   8.0500\n",
      "    age     fare\n",
      "0  32.0  17.2500\n",
      "1  48.0  81.2833\n",
      "2  36.0  17.9250\n",
      "3  45.0  63.1000\n",
      "4  45.0  18.0500\n"
     ]
    }
   ],
   "source": [
    "import pandas as pd\n",
    "import seaborn as sns\n",
    "titanic=sns.load_dataset('titanic')\n",
    "df=titanic.loc[:,['age','fare']]\n",
    "print(df.head())\n",
    "addition=df+10 #모든 원소에 10을 더함.\n",
    "print(addition.head())"
   ]
  },
  {
   "cell_type": "code",
   "execution_count": 3,
   "id": "c636518b",
   "metadata": {},
   "outputs": [
    {
     "name": "stdout",
     "output_type": "stream",
     "text": [
      "      age   fare\n",
      "886  27.0  13.00\n",
      "887  19.0  30.00\n",
      "888   NaN  23.45\n",
      "889  26.0  30.00\n",
      "890  32.0   7.75\n",
      "      age   fare\n",
      "886  37.0  23.00\n",
      "887  29.0  40.00\n",
      "888   NaN  33.45\n",
      "889  36.0  40.00\n",
      "890  42.0  17.75\n",
      "      age  fare\n",
      "886  10.0  10.0\n",
      "887  10.0  10.0\n",
      "888   NaN  10.0\n",
      "889  10.0  10.0\n",
      "890  10.0  10.0\n"
     ]
    }
   ],
   "source": [
    "import pandas as pd\n",
    "import seaborn as sns\n",
    "titanic=sns.load_dataset('titanic')\n",
    "df=titanic.loc[:,['age','fare']]\n",
    "print(df.tail())\n",
    "addition=df+10\n",
    "subtraction=addition-df\n",
    "print(addition.tail())\n",
    "print(subtraction.tail())"
   ]
  },
  {
   "cell_type": "code",
   "execution_count": null,
   "id": "3058f552",
   "metadata": {},
   "outputs": [],
   "source": []
  }
 ],
 "metadata": {
  "kernelspec": {
   "display_name": "Python 3",
   "language": "python",
   "name": "python3"
  },
  "language_info": {
   "codemirror_mode": {
    "name": "ipython",
    "version": 3
   },
   "file_extension": ".py",
   "mimetype": "text/x-python",
   "name": "python",
   "nbconvert_exporter": "python",
   "pygments_lexer": "ipython3",
   "version": "3.8.8"
  }
 },
 "nbformat": 4,
 "nbformat_minor": 5
}
